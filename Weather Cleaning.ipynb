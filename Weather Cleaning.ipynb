{
 "cells": [
  {
   "cell_type": "code",
   "execution_count": 1,
   "id": "7c4f403f-ceb7-4976-b6f5-59ce84fb0681",
   "metadata": {},
   "outputs": [],
   "source": [
    "import pandas as pd\n",
    "import numpy as np\n",
    "import os"
   ]
  },
  {
   "cell_type": "code",
   "execution_count": 3,
   "id": "b7a5d5bf-373f-4360-862c-d2c40efa1850",
   "metadata": {},
   "outputs": [],
   "source": [
    "path = r'C:\\Users\\harkn\\OneDrive\\Desktop\\Tasks\\Machine Learning in Python\\Achievement 2\\Project Data\\\\'"
   ]
  },
  {
   "cell_type": "code",
   "execution_count": 5,
   "id": "c43775bb-a2cb-4e5a-ae62-5b95b77acd92",
   "metadata": {},
   "outputs": [
    {
     "data": {
      "text/html": [
       "<div>\n",
       "<style scoped>\n",
       "    .dataframe tbody tr th:only-of-type {\n",
       "        vertical-align: middle;\n",
       "    }\n",
       "\n",
       "    .dataframe tbody tr th {\n",
       "        vertical-align: top;\n",
       "    }\n",
       "\n",
       "    .dataframe thead th {\n",
       "        text-align: right;\n",
       "    }\n",
       "</style>\n",
       "<table border=\"1\" class=\"dataframe\">\n",
       "  <thead>\n",
       "    <tr style=\"text-align: right;\">\n",
       "      <th></th>\n",
       "      <th>DATE</th>\n",
       "      <th>MONTH</th>\n",
       "      <th>BASEL_cloud_cover</th>\n",
       "      <th>BASEL_wind_speed</th>\n",
       "      <th>BASEL_humidity</th>\n",
       "      <th>BASEL_pressure</th>\n",
       "      <th>BASEL_global_radiation</th>\n",
       "      <th>BASEL_precipitation</th>\n",
       "      <th>BASEL_snow_depth</th>\n",
       "      <th>BASEL_sunshine</th>\n",
       "      <th>...</th>\n",
       "      <th>VALENTIA_cloud_cover</th>\n",
       "      <th>VALENTIA_humidity</th>\n",
       "      <th>VALENTIA_pressure</th>\n",
       "      <th>VALENTIA_global_radiation</th>\n",
       "      <th>VALENTIA_precipitation</th>\n",
       "      <th>VALENTIA_snow_depth</th>\n",
       "      <th>VALENTIA_sunshine</th>\n",
       "      <th>VALENTIA_temp_mean</th>\n",
       "      <th>VALENTIA_temp_min</th>\n",
       "      <th>VALENTIA_temp_max</th>\n",
       "    </tr>\n",
       "  </thead>\n",
       "  <tbody>\n",
       "    <tr>\n",
       "      <th>0</th>\n",
       "      <td>19600101</td>\n",
       "      <td>1</td>\n",
       "      <td>7</td>\n",
       "      <td>2.1</td>\n",
       "      <td>0.85</td>\n",
       "      <td>1.018</td>\n",
       "      <td>0.32</td>\n",
       "      <td>0.09</td>\n",
       "      <td>0</td>\n",
       "      <td>0.7</td>\n",
       "      <td>...</td>\n",
       "      <td>5</td>\n",
       "      <td>0.88</td>\n",
       "      <td>1.0003</td>\n",
       "      <td>0.45</td>\n",
       "      <td>0.34</td>\n",
       "      <td>0</td>\n",
       "      <td>4.7</td>\n",
       "      <td>8.5</td>\n",
       "      <td>6.0</td>\n",
       "      <td>10.9</td>\n",
       "    </tr>\n",
       "    <tr>\n",
       "      <th>1</th>\n",
       "      <td>19600102</td>\n",
       "      <td>1</td>\n",
       "      <td>6</td>\n",
       "      <td>2.1</td>\n",
       "      <td>0.84</td>\n",
       "      <td>1.018</td>\n",
       "      <td>0.36</td>\n",
       "      <td>1.05</td>\n",
       "      <td>0</td>\n",
       "      <td>1.1</td>\n",
       "      <td>...</td>\n",
       "      <td>7</td>\n",
       "      <td>0.91</td>\n",
       "      <td>1.0007</td>\n",
       "      <td>0.25</td>\n",
       "      <td>0.84</td>\n",
       "      <td>0</td>\n",
       "      <td>0.7</td>\n",
       "      <td>8.9</td>\n",
       "      <td>5.6</td>\n",
       "      <td>12.1</td>\n",
       "    </tr>\n",
       "    <tr>\n",
       "      <th>2</th>\n",
       "      <td>19600103</td>\n",
       "      <td>1</td>\n",
       "      <td>8</td>\n",
       "      <td>2.1</td>\n",
       "      <td>0.90</td>\n",
       "      <td>1.018</td>\n",
       "      <td>0.18</td>\n",
       "      <td>0.30</td>\n",
       "      <td>0</td>\n",
       "      <td>0.0</td>\n",
       "      <td>...</td>\n",
       "      <td>7</td>\n",
       "      <td>0.91</td>\n",
       "      <td>1.0096</td>\n",
       "      <td>0.17</td>\n",
       "      <td>0.08</td>\n",
       "      <td>0</td>\n",
       "      <td>0.1</td>\n",
       "      <td>10.5</td>\n",
       "      <td>8.1</td>\n",
       "      <td>12.9</td>\n",
       "    </tr>\n",
       "    <tr>\n",
       "      <th>3</th>\n",
       "      <td>19600104</td>\n",
       "      <td>1</td>\n",
       "      <td>3</td>\n",
       "      <td>2.1</td>\n",
       "      <td>0.92</td>\n",
       "      <td>1.018</td>\n",
       "      <td>0.58</td>\n",
       "      <td>0.00</td>\n",
       "      <td>0</td>\n",
       "      <td>4.1</td>\n",
       "      <td>...</td>\n",
       "      <td>7</td>\n",
       "      <td>0.86</td>\n",
       "      <td>1.0184</td>\n",
       "      <td>0.13</td>\n",
       "      <td>0.98</td>\n",
       "      <td>0</td>\n",
       "      <td>0.0</td>\n",
       "      <td>7.4</td>\n",
       "      <td>7.3</td>\n",
       "      <td>10.6</td>\n",
       "    </tr>\n",
       "    <tr>\n",
       "      <th>4</th>\n",
       "      <td>19600105</td>\n",
       "      <td>1</td>\n",
       "      <td>6</td>\n",
       "      <td>2.1</td>\n",
       "      <td>0.95</td>\n",
       "      <td>1.018</td>\n",
       "      <td>0.65</td>\n",
       "      <td>0.14</td>\n",
       "      <td>0</td>\n",
       "      <td>5.4</td>\n",
       "      <td>...</td>\n",
       "      <td>3</td>\n",
       "      <td>0.80</td>\n",
       "      <td>1.0328</td>\n",
       "      <td>0.46</td>\n",
       "      <td>0.00</td>\n",
       "      <td>0</td>\n",
       "      <td>5.7</td>\n",
       "      <td>5.7</td>\n",
       "      <td>3.0</td>\n",
       "      <td>8.4</td>\n",
       "    </tr>\n",
       "  </tbody>\n",
       "</table>\n",
       "<p>5 rows × 170 columns</p>\n",
       "</div>"
      ],
      "text/plain": [
       "       DATE  MONTH  BASEL_cloud_cover  BASEL_wind_speed  BASEL_humidity  \\\n",
       "0  19600101      1                  7               2.1            0.85   \n",
       "1  19600102      1                  6               2.1            0.84   \n",
       "2  19600103      1                  8               2.1            0.90   \n",
       "3  19600104      1                  3               2.1            0.92   \n",
       "4  19600105      1                  6               2.1            0.95   \n",
       "\n",
       "   BASEL_pressure  BASEL_global_radiation  BASEL_precipitation  \\\n",
       "0           1.018                    0.32                 0.09   \n",
       "1           1.018                    0.36                 1.05   \n",
       "2           1.018                    0.18                 0.30   \n",
       "3           1.018                    0.58                 0.00   \n",
       "4           1.018                    0.65                 0.14   \n",
       "\n",
       "   BASEL_snow_depth  BASEL_sunshine  ...  VALENTIA_cloud_cover  \\\n",
       "0                 0             0.7  ...                     5   \n",
       "1                 0             1.1  ...                     7   \n",
       "2                 0             0.0  ...                     7   \n",
       "3                 0             4.1  ...                     7   \n",
       "4                 0             5.4  ...                     3   \n",
       "\n",
       "   VALENTIA_humidity  VALENTIA_pressure  VALENTIA_global_radiation  \\\n",
       "0               0.88             1.0003                       0.45   \n",
       "1               0.91             1.0007                       0.25   \n",
       "2               0.91             1.0096                       0.17   \n",
       "3               0.86             1.0184                       0.13   \n",
       "4               0.80             1.0328                       0.46   \n",
       "\n",
       "   VALENTIA_precipitation  VALENTIA_snow_depth  VALENTIA_sunshine  \\\n",
       "0                    0.34                    0                4.7   \n",
       "1                    0.84                    0                0.7   \n",
       "2                    0.08                    0                0.1   \n",
       "3                    0.98                    0                0.0   \n",
       "4                    0.00                    0                5.7   \n",
       "\n",
       "   VALENTIA_temp_mean  VALENTIA_temp_min  VALENTIA_temp_max  \n",
       "0                 8.5                6.0               10.9  \n",
       "1                 8.9                5.6               12.1  \n",
       "2                10.5                8.1               12.9  \n",
       "3                 7.4                7.3               10.6  \n",
       "4                 5.7                3.0                8.4  \n",
       "\n",
       "[5 rows x 170 columns]"
      ]
     },
     "execution_count": 5,
     "metadata": {},
     "output_type": "execute_result"
    }
   ],
   "source": [
    "df_weather = pd.read_csv(os.path.join(path, 'DATASET_weather.csv'))\n",
    "df_answers = pd.read_csv(os.path.join(path, 'DATASET_predictions.csv'))\n",
    "df_weather.head()"
   ]
  },
  {
   "cell_type": "code",
   "execution_count": 11,
   "id": "b21ed334-7c48-459a-9691-13fe7811bad0",
   "metadata": {},
   "outputs": [],
   "source": [
    "# drop gdansk, roma, tours\n",
    "df_weather_clean = df_weather.drop(['GDANSK_cloud_cover', 'GDANSK_humidity', 'GDANSK_precipitation', 'GDANSK_snow_depth', 'GDANSK_temp_mean', 'GDANSK_temp_min', 'GDANSK_temp_max',\n",
    "                        'ROMA_cloud_cover', 'ROMA_wind_speed', 'ROMA_humidity', 'ROMA_pressure', 'ROMA_sunshine', 'ROMA_temp_mean',\n",
    "                        'TOURS_wind_speed', 'TOURS_humidity', 'TOURS_pressure', 'TOURS_global_radiation', 'TOURS_precipitation', 'TOURS_temp_mean', 'TOURS_temp_min', 'TOURS_temp_max'], axis=1)"
   ]
  },
  {
   "cell_type": "code",
   "execution_count": 17,
   "id": "20b98ad5-e04b-4ac4-b6ed-0e992758aebe",
   "metadata": {},
   "outputs": [],
   "source": [
    "# extract observations\n",
    "observation_types = ['cloud_cover', 'wind_speed', 'humidity', 'pressure',\n",
    "                     'global_radiation', 'precipitation', 'snow_depth', \n",
    "                     'sunshine', 'temp_mean', 'temp_min', 'temp_max']"
   ]
  },
  {
   "cell_type": "code",
   "execution_count": 19,
   "id": "9609c7a5-7f61-4d30-ae0b-9ef9e2fd574c",
   "metadata": {},
   "outputs": [
    {
     "name": "stdout",
     "output_type": "stream",
     "text": [
      "Number of stations covered by each observation type:\n",
      "cloud_cover: 14 stations\n",
      "wind_speed: 9 stations\n",
      "humidity: 14 stations\n",
      "pressure: 14 stations\n",
      "global_radiation: 15 stations\n",
      "precipitation: 15 stations\n",
      "snow_depth: 6 stations\n",
      "sunshine: 15 stations\n",
      "temp_mean: 15 stations\n",
      "temp_min: 15 stations\n",
      "temp_max: 15 stations\n"
     ]
    }
   ],
   "source": [
    "# Create a dictionary to store the count of stations for each observation type\n",
    "station_counts = {}\n",
    "\n",
    "for obs in observation_types:\n",
    "    # Select columns related to the current observation type\n",
    "    columns = [col for col in df_weather_clean.columns if col.endswith(obs)]\n",
    "    \n",
    "    # Count the number of stations (i.e., the number of columns) for the current observation type\n",
    "    station_counts[obs] = len(columns)\n",
    "\n",
    "# Print the count of stations for each observation type\n",
    "print(\"Number of stations covered by each observation type:\")\n",
    "for obs, count in station_counts.items():\n",
    "    print(f\"{obs}: {count} stations\")"
   ]
  },
  {
   "cell_type": "code",
   "execution_count": 23,
   "id": "38ffc5ab-4422-4996-b8a6-47e9a1994d20",
   "metadata": {},
   "outputs": [
    {
     "data": {
      "text/plain": [
       "Index(['BASEL_wind_speed', 'BASEL_snow_depth', 'DEBILT_wind_speed',\n",
       "       'DUSSELDORF_wind_speed', 'DUSSELDORF_snow_depth', 'HEATHROW_snow_depth',\n",
       "       'KASSEL_wind_speed', 'LJUBLJANA_wind_speed', 'MAASTRICHT_wind_speed',\n",
       "       'MADRID_wind_speed', 'MUNCHENB_snow_depth', 'OSLO_wind_speed',\n",
       "       'OSLO_snow_depth', 'SONNBLICK_wind_speed', 'VALENTIA_snow_depth'],\n",
       "      dtype='object')"
      ]
     },
     "execution_count": 23,
     "metadata": {},
     "output_type": "execute_result"
    }
   ],
   "source": [
    "# Drop columns that end with wind_speed and snow_depth from the dataset\n",
    "columns_to_drop = df_weather_clean.filter(regex='(_wind_speed|_snow_depth)$').columns\n",
    "columns_to_drop"
   ]
  },
  {
   "cell_type": "code",
   "execution_count": 25,
   "id": "83da1342-a714-4949-a35b-af2f355cf429",
   "metadata": {},
   "outputs": [],
   "source": [
    "df_weather_clean = df_weather_clean.drop(columns=columns_to_drop)"
   ]
  },
  {
   "cell_type": "code",
   "execution_count": 28,
   "id": "dd713a09-189b-4599-bbeb-a29f38826757",
   "metadata": {},
   "outputs": [
    {
     "data": {
      "text/plain": [
       "{'BASEL',\n",
       " 'BELGRADE',\n",
       " 'BUDAPEST',\n",
       " 'DEBILT',\n",
       " 'DUSSELDORF',\n",
       " 'HEATHROW',\n",
       " 'KASSEL',\n",
       " 'LJUBLJANA',\n",
       " 'MAASTRICHT',\n",
       " 'MADRID',\n",
       " 'MUNCHENB',\n",
       " 'OSLO',\n",
       " 'SONNBLICK',\n",
       " 'STOCKHOLM',\n",
       " 'VALENTIA'}"
      ]
     },
     "execution_count": 28,
     "metadata": {},
     "output_type": "execute_result"
    }
   ],
   "source": [
    "# Create a list of all unique station names in the dataset\n",
    "all_stations = set([col.split('_')[0] for col in df_weather_clean.columns if '_' in col])\n",
    "all_stations"
   ]
  },
  {
   "cell_type": "code",
   "execution_count": 30,
   "id": "72bd841e-e317-4275-a136-fc77c6d654c4",
   "metadata": {},
   "outputs": [
    {
     "name": "stdout",
     "output_type": "stream",
     "text": [
      "\n",
      "Stations missing from cloud_cover:\n",
      "KASSEL\n",
      "\n",
      "Stations missing from humidity:\n",
      "STOCKHOLM\n",
      "\n",
      "Stations missing from pressure:\n",
      "MUNCHENB\n"
     ]
    }
   ],
   "source": [
    "observation_types = ['cloud_cover', 'humidity', 'pressure']\n",
    "\n",
    "missing_stations_by_observation = {}\n",
    "\n",
    "for obs in observation_types:\n",
    "    # Select columns related to the current observation type\n",
    "    columns = [col for col in df_weather_clean.columns if col.endswith(obs)]\n",
    "    \n",
    "    # Extract station names by removing the observation type from the column names\n",
    "    station_names = set([col.replace(f'_{obs}', '') for col in columns])\n",
    "    \n",
    "    # Identify stations that are in all_stations but missing from the current observation type\n",
    "    missing_stations = all_stations - station_names\n",
    "    \n",
    "    # Store the missing station names in the dictionary\n",
    "    missing_stations_by_observation[obs] = missing_stations\n",
    "\n",
    "# Print the missing station names for each observation type\n",
    "for obs, missing_stations in missing_stations_by_observation.items():\n",
    "    print(f\"\\nStations missing from {obs}:\")\n",
    "    if missing_stations:\n",
    "        for station in missing_stations:\n",
    "            print(station)\n",
    "    else:\n",
    "        print(\"None\")"
   ]
  },
  {
   "cell_type": "code",
   "execution_count": 38,
   "id": "98194d4b-c918-4971-b943-773b1d337eb1",
   "metadata": {},
   "outputs": [
    {
     "data": {
      "text/plain": [
       "55"
      ]
     },
     "execution_count": 38,
     "metadata": {},
     "output_type": "execute_result"
    }
   ],
   "source": [
    "df_weather_clean.columns.get_loc('HEATHROW_temp_max')"
   ]
  },
  {
   "cell_type": "code",
   "execution_count": 40,
   "id": "1259f401-2aa3-4840-a028-974662cc0501",
   "metadata": {},
   "outputs": [
    {
     "data": {
      "text/plain": [
       "117"
      ]
     },
     "execution_count": 40,
     "metadata": {},
     "output_type": "execute_result"
    }
   ],
   "source": [
    "df_weather_clean.columns.get_loc('STOCKHOLM_cloud_cover')"
   ]
  },
  {
   "cell_type": "code",
   "execution_count": 42,
   "id": "cacb446d-5702-41f2-abbb-d5d14511dd4e",
   "metadata": {},
   "outputs": [
    {
     "data": {
      "text/plain": [
       "92"
      ]
     },
     "execution_count": 42,
     "metadata": {},
     "output_type": "execute_result"
    }
   ],
   "source": [
    "df_weather_clean.columns.get_loc('MUNCHENB_humidity')"
   ]
  },
  {
   "cell_type": "code",
   "execution_count": 48,
   "id": "9370d107-2d94-41b9-a487-563dcabb7607",
   "metadata": {},
   "outputs": [],
   "source": [
    "# Insert new columns into \"unscaled\" at specific positions.\n",
    "# The data for these new columns is copied from other existing columns:\n",
    "\n",
    "df_weather_clean.insert(56,'KASSEL_cloud_cover', df_weather_clean['DUSSELDORF_cloud_cover'])\n",
    "df_weather_clean.insert(119, 'STOCKHOLM_humidity', df_weather_clean['OSLO_humidity'])\n",
    "df_weather_clean.insert(94,'MUNCHENB_pressure',df_weather_clean['BASEL_pressure'])"
   ]
  },
  {
   "cell_type": "code",
   "execution_count": 52,
   "id": "21c32378-dab3-472e-af68-520bd47a7484",
   "metadata": {},
   "outputs": [
    {
     "data": {
      "text/plain": [
       "['DATE',\n",
       " 'MONTH',\n",
       " 'BASEL_cloud_cover',\n",
       " 'BASEL_humidity',\n",
       " 'BASEL_pressure',\n",
       " 'BASEL_global_radiation',\n",
       " 'BASEL_precipitation',\n",
       " 'BASEL_sunshine',\n",
       " 'BASEL_temp_mean',\n",
       " 'BASEL_temp_min',\n",
       " 'BASEL_temp_max',\n",
       " 'BELGRADE_cloud_cover',\n",
       " 'BELGRADE_humidity',\n",
       " 'BELGRADE_pressure',\n",
       " 'BELGRADE_global_radiation',\n",
       " 'BELGRADE_precipitation',\n",
       " 'BELGRADE_sunshine',\n",
       " 'BELGRADE_temp_mean',\n",
       " 'BELGRADE_temp_min',\n",
       " 'BELGRADE_temp_max',\n",
       " 'BUDAPEST_cloud_cover',\n",
       " 'BUDAPEST_humidity',\n",
       " 'BUDAPEST_pressure',\n",
       " 'BUDAPEST_global_radiation',\n",
       " 'BUDAPEST_precipitation',\n",
       " 'BUDAPEST_sunshine',\n",
       " 'BUDAPEST_temp_mean',\n",
       " 'BUDAPEST_temp_min',\n",
       " 'BUDAPEST_temp_max',\n",
       " 'DEBILT_cloud_cover',\n",
       " 'DEBILT_humidity',\n",
       " 'DEBILT_pressure',\n",
       " 'DEBILT_global_radiation',\n",
       " 'DEBILT_precipitation',\n",
       " 'DEBILT_sunshine',\n",
       " 'DEBILT_temp_mean',\n",
       " 'DEBILT_temp_min',\n",
       " 'DEBILT_temp_max',\n",
       " 'DUSSELDORF_cloud_cover',\n",
       " 'DUSSELDORF_humidity',\n",
       " 'DUSSELDORF_pressure',\n",
       " 'DUSSELDORF_global_radiation',\n",
       " 'DUSSELDORF_precipitation',\n",
       " 'DUSSELDORF_sunshine',\n",
       " 'DUSSELDORF_temp_mean',\n",
       " 'DUSSELDORF_temp_min',\n",
       " 'DUSSELDORF_temp_max',\n",
       " 'HEATHROW_cloud_cover',\n",
       " 'HEATHROW_humidity',\n",
       " 'HEATHROW_pressure',\n",
       " 'HEATHROW_global_radiation',\n",
       " 'HEATHROW_precipitation',\n",
       " 'HEATHROW_sunshine',\n",
       " 'HEATHROW_temp_mean',\n",
       " 'HEATHROW_temp_min',\n",
       " 'HEATHROW_temp_max',\n",
       " 'KASSEL_cloud_cover',\n",
       " 'KASSEL_humidity',\n",
       " 'KASSEL_pressure',\n",
       " 'KASSEL_global_radiation',\n",
       " 'KASSEL_precipitation',\n",
       " 'KASSEL_sunshine',\n",
       " 'KASSEL_temp_mean',\n",
       " 'KASSEL_temp_min',\n",
       " 'KASSEL_temp_max',\n",
       " 'LJUBLJANA_cloud_cover',\n",
       " 'LJUBLJANA_humidity',\n",
       " 'LJUBLJANA_pressure',\n",
       " 'LJUBLJANA_global_radiation',\n",
       " 'LJUBLJANA_precipitation',\n",
       " 'LJUBLJANA_sunshine',\n",
       " 'LJUBLJANA_temp_mean',\n",
       " 'LJUBLJANA_temp_min',\n",
       " 'LJUBLJANA_temp_max',\n",
       " 'MAASTRICHT_cloud_cover',\n",
       " 'MAASTRICHT_humidity',\n",
       " 'MAASTRICHT_pressure',\n",
       " 'MAASTRICHT_global_radiation',\n",
       " 'MAASTRICHT_precipitation',\n",
       " 'MAASTRICHT_sunshine',\n",
       " 'MAASTRICHT_temp_mean',\n",
       " 'MAASTRICHT_temp_min',\n",
       " 'MAASTRICHT_temp_max',\n",
       " 'MADRID_cloud_cover',\n",
       " 'MADRID_humidity',\n",
       " 'MADRID_pressure',\n",
       " 'MADRID_global_radiation',\n",
       " 'MADRID_precipitation',\n",
       " 'MADRID_sunshine',\n",
       " 'MADRID_temp_mean',\n",
       " 'MADRID_temp_min',\n",
       " 'MADRID_temp_max',\n",
       " 'MUNCHENB_cloud_cover',\n",
       " 'MUNCHENB_humidity',\n",
       " 'MUNCHENB_pressure',\n",
       " 'MUNCHENB_global_radiation',\n",
       " 'MUNCHENB_precipitation',\n",
       " 'MUNCHENB_sunshine',\n",
       " 'MUNCHENB_temp_mean',\n",
       " 'MUNCHENB_temp_min',\n",
       " 'MUNCHENB_temp_max',\n",
       " 'OSLO_cloud_cover',\n",
       " 'OSLO_humidity',\n",
       " 'OSLO_pressure',\n",
       " 'OSLO_global_radiation',\n",
       " 'OSLO_precipitation',\n",
       " 'OSLO_sunshine',\n",
       " 'OSLO_temp_mean',\n",
       " 'OSLO_temp_min',\n",
       " 'OSLO_temp_max',\n",
       " 'SONNBLICK_cloud_cover',\n",
       " 'SONNBLICK_humidity',\n",
       " 'SONNBLICK_pressure',\n",
       " 'SONNBLICK_global_radiation',\n",
       " 'SONNBLICK_precipitation',\n",
       " 'SONNBLICK_sunshine',\n",
       " 'SONNBLICK_temp_mean',\n",
       " 'SONNBLICK_temp_min',\n",
       " 'SONNBLICK_temp_max',\n",
       " 'STOCKHOLM_cloud_cover',\n",
       " 'STOCKHOLM_humidity',\n",
       " 'STOCKHOLM_pressure',\n",
       " 'STOCKHOLM_global_radiation',\n",
       " 'STOCKHOLM_precipitation',\n",
       " 'STOCKHOLM_sunshine',\n",
       " 'STOCKHOLM_temp_mean',\n",
       " 'STOCKHOLM_temp_min',\n",
       " 'STOCKHOLM_temp_max',\n",
       " 'VALENTIA_cloud_cover',\n",
       " 'VALENTIA_humidity',\n",
       " 'VALENTIA_pressure',\n",
       " 'VALENTIA_global_radiation',\n",
       " 'VALENTIA_precipitation',\n",
       " 'VALENTIA_sunshine',\n",
       " 'VALENTIA_temp_mean',\n",
       " 'VALENTIA_temp_min',\n",
       " 'VALENTIA_temp_max']"
      ]
     },
     "execution_count": 52,
     "metadata": {},
     "output_type": "execute_result"
    }
   ],
   "source": [
    "columns=df_weather_clean.columns.values.tolist() #create a list of column names for your df\n",
    "columns #list the columns"
   ]
  },
  {
   "cell_type": "code",
   "execution_count": 56,
   "id": "51af6bbb-8a5b-493e-aff3-e4fbe7d95d48",
   "metadata": {},
   "outputs": [],
   "source": [
    "#drop date and month\n",
    "df_weather_clean.drop(['DATE', 'MONTH'], axis=1, inplace=True)"
   ]
  },
  {
   "cell_type": "code",
   "execution_count": 58,
   "id": "796c6f1d-9587-4a2d-80ce-0112ec3a9294",
   "metadata": {},
   "outputs": [
    {
     "data": {
      "text/plain": [
       "(22950, 135)"
      ]
     },
     "execution_count": 58,
     "metadata": {},
     "output_type": "execute_result"
    }
   ],
   "source": [
    "df_weather_clean.shape"
   ]
  },
  {
   "cell_type": "code",
   "execution_count": 64,
   "id": "7db88256-f547-408e-9b87-d6e3a963917a",
   "metadata": {},
   "outputs": [
    {
     "ename": "KeyError",
     "evalue": "\"['DATE'] not found in axis\"",
     "output_type": "error",
     "traceback": [
      "\u001b[1;31m---------------------------------------------------------------------------\u001b[0m",
      "\u001b[1;31mKeyError\u001b[0m                                  Traceback (most recent call last)",
      "Cell \u001b[1;32mIn[64], line 1\u001b[0m\n\u001b[1;32m----> 1\u001b[0m df_answers\u001b[38;5;241m.\u001b[39mdrop(columns \u001b[38;5;241m=\u001b[39m \u001b[38;5;124m'\u001b[39m\u001b[38;5;124mDATE\u001b[39m\u001b[38;5;124m'\u001b[39m, inplace \u001b[38;5;241m=\u001b[39m \u001b[38;5;28;01mTrue\u001b[39;00m)\n",
      "File \u001b[1;32m~\\anaconda3\\Lib\\site-packages\\pandas\\core\\frame.py:5568\u001b[0m, in \u001b[0;36mDataFrame.drop\u001b[1;34m(self, labels, axis, index, columns, level, inplace, errors)\u001b[0m\n\u001b[0;32m   5420\u001b[0m \u001b[38;5;28;01mdef\u001b[39;00m \u001b[38;5;21mdrop\u001b[39m(\n\u001b[0;32m   5421\u001b[0m     \u001b[38;5;28mself\u001b[39m,\n\u001b[0;32m   5422\u001b[0m     labels: IndexLabel \u001b[38;5;241m|\u001b[39m \u001b[38;5;28;01mNone\u001b[39;00m \u001b[38;5;241m=\u001b[39m \u001b[38;5;28;01mNone\u001b[39;00m,\n\u001b[1;32m   (...)\u001b[0m\n\u001b[0;32m   5429\u001b[0m     errors: IgnoreRaise \u001b[38;5;241m=\u001b[39m \u001b[38;5;124m\"\u001b[39m\u001b[38;5;124mraise\u001b[39m\u001b[38;5;124m\"\u001b[39m,\n\u001b[0;32m   5430\u001b[0m ) \u001b[38;5;241m-\u001b[39m\u001b[38;5;241m>\u001b[39m DataFrame \u001b[38;5;241m|\u001b[39m \u001b[38;5;28;01mNone\u001b[39;00m:\n\u001b[0;32m   5431\u001b[0m \u001b[38;5;250m    \u001b[39m\u001b[38;5;124;03m\"\"\"\u001b[39;00m\n\u001b[0;32m   5432\u001b[0m \u001b[38;5;124;03m    Drop specified labels from rows or columns.\u001b[39;00m\n\u001b[0;32m   5433\u001b[0m \n\u001b[1;32m   (...)\u001b[0m\n\u001b[0;32m   5566\u001b[0m \u001b[38;5;124;03m            weight  1.0     0.8\u001b[39;00m\n\u001b[0;32m   5567\u001b[0m \u001b[38;5;124;03m    \"\"\"\u001b[39;00m\n\u001b[1;32m-> 5568\u001b[0m     \u001b[38;5;28;01mreturn\u001b[39;00m \u001b[38;5;28msuper\u001b[39m()\u001b[38;5;241m.\u001b[39mdrop(\n\u001b[0;32m   5569\u001b[0m         labels\u001b[38;5;241m=\u001b[39mlabels,\n\u001b[0;32m   5570\u001b[0m         axis\u001b[38;5;241m=\u001b[39maxis,\n\u001b[0;32m   5571\u001b[0m         index\u001b[38;5;241m=\u001b[39mindex,\n\u001b[0;32m   5572\u001b[0m         columns\u001b[38;5;241m=\u001b[39mcolumns,\n\u001b[0;32m   5573\u001b[0m         level\u001b[38;5;241m=\u001b[39mlevel,\n\u001b[0;32m   5574\u001b[0m         inplace\u001b[38;5;241m=\u001b[39minplace,\n\u001b[0;32m   5575\u001b[0m         errors\u001b[38;5;241m=\u001b[39merrors,\n\u001b[0;32m   5576\u001b[0m     )\n",
      "File \u001b[1;32m~\\anaconda3\\Lib\\site-packages\\pandas\\core\\generic.py:4785\u001b[0m, in \u001b[0;36mNDFrame.drop\u001b[1;34m(self, labels, axis, index, columns, level, inplace, errors)\u001b[0m\n\u001b[0;32m   4783\u001b[0m \u001b[38;5;28;01mfor\u001b[39;00m axis, labels \u001b[38;5;129;01min\u001b[39;00m axes\u001b[38;5;241m.\u001b[39mitems():\n\u001b[0;32m   4784\u001b[0m     \u001b[38;5;28;01mif\u001b[39;00m labels \u001b[38;5;129;01mis\u001b[39;00m \u001b[38;5;129;01mnot\u001b[39;00m \u001b[38;5;28;01mNone\u001b[39;00m:\n\u001b[1;32m-> 4785\u001b[0m         obj \u001b[38;5;241m=\u001b[39m obj\u001b[38;5;241m.\u001b[39m_drop_axis(labels, axis, level\u001b[38;5;241m=\u001b[39mlevel, errors\u001b[38;5;241m=\u001b[39merrors)\n\u001b[0;32m   4787\u001b[0m \u001b[38;5;28;01mif\u001b[39;00m inplace:\n\u001b[0;32m   4788\u001b[0m     \u001b[38;5;28mself\u001b[39m\u001b[38;5;241m.\u001b[39m_update_inplace(obj)\n",
      "File \u001b[1;32m~\\anaconda3\\Lib\\site-packages\\pandas\\core\\generic.py:4827\u001b[0m, in \u001b[0;36mNDFrame._drop_axis\u001b[1;34m(self, labels, axis, level, errors, only_slice)\u001b[0m\n\u001b[0;32m   4825\u001b[0m         new_axis \u001b[38;5;241m=\u001b[39m axis\u001b[38;5;241m.\u001b[39mdrop(labels, level\u001b[38;5;241m=\u001b[39mlevel, errors\u001b[38;5;241m=\u001b[39merrors)\n\u001b[0;32m   4826\u001b[0m     \u001b[38;5;28;01melse\u001b[39;00m:\n\u001b[1;32m-> 4827\u001b[0m         new_axis \u001b[38;5;241m=\u001b[39m axis\u001b[38;5;241m.\u001b[39mdrop(labels, errors\u001b[38;5;241m=\u001b[39merrors)\n\u001b[0;32m   4828\u001b[0m     indexer \u001b[38;5;241m=\u001b[39m axis\u001b[38;5;241m.\u001b[39mget_indexer(new_axis)\n\u001b[0;32m   4830\u001b[0m \u001b[38;5;66;03m# Case for non-unique axis\u001b[39;00m\n\u001b[0;32m   4831\u001b[0m \u001b[38;5;28;01melse\u001b[39;00m:\n",
      "File \u001b[1;32m~\\anaconda3\\Lib\\site-packages\\pandas\\core\\indexes\\base.py:7070\u001b[0m, in \u001b[0;36mIndex.drop\u001b[1;34m(self, labels, errors)\u001b[0m\n\u001b[0;32m   7068\u001b[0m \u001b[38;5;28;01mif\u001b[39;00m mask\u001b[38;5;241m.\u001b[39many():\n\u001b[0;32m   7069\u001b[0m     \u001b[38;5;28;01mif\u001b[39;00m errors \u001b[38;5;241m!=\u001b[39m \u001b[38;5;124m\"\u001b[39m\u001b[38;5;124mignore\u001b[39m\u001b[38;5;124m\"\u001b[39m:\n\u001b[1;32m-> 7070\u001b[0m         \u001b[38;5;28;01mraise\u001b[39;00m \u001b[38;5;167;01mKeyError\u001b[39;00m(\u001b[38;5;124mf\u001b[39m\u001b[38;5;124m\"\u001b[39m\u001b[38;5;132;01m{\u001b[39;00mlabels[mask]\u001b[38;5;241m.\u001b[39mtolist()\u001b[38;5;132;01m}\u001b[39;00m\u001b[38;5;124m not found in axis\u001b[39m\u001b[38;5;124m\"\u001b[39m)\n\u001b[0;32m   7071\u001b[0m     indexer \u001b[38;5;241m=\u001b[39m indexer[\u001b[38;5;241m~\u001b[39mmask]\n\u001b[0;32m   7072\u001b[0m \u001b[38;5;28;01mreturn\u001b[39;00m \u001b[38;5;28mself\u001b[39m\u001b[38;5;241m.\u001b[39mdelete(indexer)\n",
      "\u001b[1;31mKeyError\u001b[0m: \"['DATE'] not found in axis\""
     ]
    }
   ],
   "source": [
    "df_answers.drop(columns = 'DATE', inplace = True)"
   ]
  },
  {
   "cell_type": "code",
   "execution_count": 66,
   "id": "f32bb2cc-409c-4698-bb42-89565bda5e36",
   "metadata": {},
   "outputs": [
    {
     "data": {
      "text/plain": [
       "Index(['BASEL_pleasant_weather', 'BELGRADE_pleasant_weather',\n",
       "       'BUDAPEST_pleasant_weather', 'DEBILT_pleasant_weather',\n",
       "       'DUSSELDORF_pleasant_weather', 'HEATHROW_pleasant_weather',\n",
       "       'KASSEL_pleasant_weather', 'LJUBLJANA_pleasant_weather',\n",
       "       'MAASTRICHT_pleasant_weather', 'MADRID_pleasant_weather',\n",
       "       'MUNCHENB_pleasant_weather', 'OSLO_pleasant_weather',\n",
       "       'SONNBLICK_pleasant_weather', 'STOCKHOLM_pleasant_weather',\n",
       "       'VALENTIA_pleasant_weather'],\n",
       "      dtype='object')"
      ]
     },
     "execution_count": 66,
     "metadata": {},
     "output_type": "execute_result"
    }
   ],
   "source": [
    "df_answers.columns"
   ]
  },
  {
   "cell_type": "code",
   "execution_count": 68,
   "id": "d0040139-9272-4191-b6d7-72f2fe8cc5b8",
   "metadata": {},
   "outputs": [],
   "source": [
    "df_weather_clean.to_csv(os.path.join(path, 'DATASET_weather_clean_1-10.csv'), index=False)"
   ]
  },
  {
   "cell_type": "code",
   "execution_count": null,
   "id": "1b99fb32-a1f0-4e28-815a-17920c41b28c",
   "metadata": {},
   "outputs": [],
   "source": []
  }
 ],
 "metadata": {
  "kernelspec": {
   "display_name": "Python 3 (ipykernel)",
   "language": "python",
   "name": "python3"
  },
  "language_info": {
   "codemirror_mode": {
    "name": "ipython",
    "version": 3
   },
   "file_extension": ".py",
   "mimetype": "text/x-python",
   "name": "python",
   "nbconvert_exporter": "python",
   "pygments_lexer": "ipython3",
   "version": "3.11.7"
  }
 },
 "nbformat": 4,
 "nbformat_minor": 5
}
