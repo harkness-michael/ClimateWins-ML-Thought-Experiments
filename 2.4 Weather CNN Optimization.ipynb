{
 "cells": [
  {
   "cell_type": "code",
   "execution_count": 11,
   "id": "29eb394c-7af1-4b3d-a3db-0a99a0315162",
   "metadata": {},
   "outputs": [],
   "source": [
    "# General libraries\n",
    "import numpy as np\n",
    "import pandas as pd\n",
    "import os\n",
    "import warnings\n",
    "\n",
    "# Visualization libraries\n",
    "import matplotlib.pyplot as plt\n",
    "import seaborn as sns\n",
    "\n",
    "# TensorFlow and Keras\n",
    "from tensorflow.keras.models import Sequential\n",
    "from tensorflow.keras.layers import Conv1D, Dense, Dropout, Flatten, BatchNormalization, MaxPooling1D\n",
    "from tensorflow.keras.optimizers import Adam, RMSprop\n",
    "from tensorflow.keras.callbacks import EarlyStopping, ModelCheckpoint\n",
    "from tensorflow.keras.utils import to_categorical\n",
    "\n",
    "# Scikit-learn utilities\n",
    "from sklearn.model_selection import train_test_split\n",
    "from sklearn.metrics import classification_report, confusion_matrix\n",
    "from sklearn.preprocessing import LabelEncoder\n",
    "\n",
    "# Bayesian Optimization\n",
    "from bayes_opt import BayesianOptimization\n",
    "\n",
    "warnings.filterwarnings(\"ignore\")"
   ]
  },
  {
   "cell_type": "code",
   "execution_count": 12,
   "id": "a285ea1e-bfaa-461d-8a69-6faf60ab2850",
   "metadata": {},
   "outputs": [],
   "source": [
    "path = r'C:\\Users\\harkn\\OneDrive\\Desktop\\Tasks\\Machine Learning in Python\\Achievement 2\\Project Data'"
   ]
  },
  {
   "cell_type": "code",
   "execution_count": 13,
   "id": "b2e4dcbf-7b53-4c22-8cd7-0943b3ffdff0",
   "metadata": {},
   "outputs": [],
   "source": [
    "# Load datasets\n",
    "df_weather = pd.read_csv(os.path.join(path, 'DATASET_weather_clean_1-10.csv'))\n",
    "df_answers = pd.read_csv(os.path.join(path, 'DATASET_predictions.csv'))"
   ]
  },
  {
   "cell_type": "code",
   "execution_count": 14,
   "id": "e1090dff-29bd-40dc-bd04-82d87d292940",
   "metadata": {},
   "outputs": [],
   "source": [
    "# Drop unnecessary columns\n",
    "df_answers = df_answers.drop(columns=['DATE'])"
   ]
  },
  {
   "cell_type": "code",
   "execution_count": 15,
   "id": "5e418bee-d209-4625-89b4-f60e83d8f9e9",
   "metadata": {},
   "outputs": [],
   "source": [
    "# Convert to NumPy arrays\n",
    "X = np.array(df_weather)\n",
    "y = np.array(df_answers)"
   ]
  },
  {
   "cell_type": "code",
   "execution_count": 16,
   "id": "b22a0239-fabc-4a03-b698-0a3bb5ec91fe",
   "metadata": {},
   "outputs": [],
   "source": [
    "# Ensure y is in the required format\n",
    "y = np.argmax(y, axis=1)  # Converts one-hot to categorical"
   ]
  },
  {
   "cell_type": "code",
   "execution_count": 17,
   "id": "6466b1f4-485e-45a1-aecc-083a455d6ac0",
   "metadata": {},
   "outputs": [
    {
     "name": "stdout",
     "output_type": "stream",
     "text": [
      "X shape: (22950, 135)\n",
      "y shape: (22950,)\n"
     ]
    }
   ],
   "source": [
    "# Check shapes\n",
    "print(\"X shape:\", X.shape)  # Should be (22950, 15, 9)\n",
    "print(\"y shape:\", y.shape)  # Should be (22950,)"
   ]
  },
  {
   "cell_type": "code",
   "execution_count": 25,
   "id": "7626c062-f792-4c2b-b88b-9ec4ba7ffbfe",
   "metadata": {},
   "outputs": [
    {
     "data": {
      "text/plain": [
       "array([[[  7.    ,   0.85  ,   1.018 , ...,   6.5   ,   0.8   ,\n",
       "          10.9   ],\n",
       "        [  1.    ,   0.81  ,   1.0195, ...,   3.7   ,  -0.9   ,\n",
       "           7.9   ],\n",
       "        [  4.    ,   0.67  ,   1.017 , ...,   2.4   ,  -0.4   ,\n",
       "           5.1   ],\n",
       "        ...,\n",
       "        [  4.    ,   0.73  ,   1.0304, ...,  -5.9   ,  -8.5   ,\n",
       "          -3.2   ],\n",
       "        [  5.    ,   0.98  ,   1.0114, ...,   4.2   ,   2.2   ,\n",
       "           4.9   ],\n",
       "        [  5.    ,   0.88  ,   1.0003, ...,   8.5   ,   6.    ,\n",
       "          10.9   ]],\n",
       "\n",
       "       [[  6.    ,   0.84  ,   1.018 , ...,   6.1   ,   3.3   ,\n",
       "          10.1   ],\n",
       "        [  6.    ,   0.84  ,   1.0172, ...,   2.9   ,   2.2   ,\n",
       "           4.4   ],\n",
       "        [  4.    ,   0.67  ,   1.017 , ...,   2.3   ,   1.4   ,\n",
       "           3.1   ],\n",
       "        ...,\n",
       "        [  6.    ,   0.97  ,   1.0292, ...,  -9.5   , -10.5   ,\n",
       "          -8.5   ],\n",
       "        [  5.    ,   0.62  ,   1.0114, ...,   4.    ,   3.    ,\n",
       "           5.    ],\n",
       "        [  7.    ,   0.91  ,   1.0007, ...,   8.9   ,   5.6   ,\n",
       "          12.1   ]],\n",
       "\n",
       "       [[  8.    ,   0.9   ,   1.018 , ...,   8.5   ,   5.1   ,\n",
       "           9.9   ],\n",
       "        [  6.    ,   0.77  ,   1.0179, ...,   3.1   ,  -0.5   ,\n",
       "           6.4   ],\n",
       "        [  4.    ,   0.67  ,   1.017 , ...,   2.7   ,   1.7   ,\n",
       "           5.3   ],\n",
       "        ...,\n",
       "        [  8.    ,   0.93  ,   1.032 , ...,  -9.5   , -10.    ,\n",
       "          -8.9   ],\n",
       "        [  5.    ,   0.69  ,   1.0114, ...,   2.4   ,   1.3   ,\n",
       "           4.1   ],\n",
       "        [  7.    ,   0.91  ,   1.0096, ...,  10.5   ,   8.1   ,\n",
       "          12.9   ]],\n",
       "\n",
       "       ...,\n",
       "\n",
       "       [[  4.    ,   0.76  ,   1.0227, ...,  16.7   ,  13.1   ,\n",
       "          22.4   ],\n",
       "        [  2.    ,   0.68  ,   1.0278, ...,  13.4   ,   8.6   ,\n",
       "          18.2   ],\n",
       "        [  4.    ,   0.67  ,   1.017 , ...,  11.7   ,   7.9   ,\n",
       "          16.2   ],\n",
       "        ...,\n",
       "        [  3.    ,   0.84  ,   1.0263, ...,   3.3   ,   2.1   ,\n",
       "           4.5   ],\n",
       "        [  5.    ,   0.85  ,   1.0059, ...,  13.1   ,  12.1   ,\n",
       "          14.4   ],\n",
       "        [  5.    ,   0.82  ,   1.0142, ...,  10.7   ,   7.9   ,\n",
       "          13.5   ]],\n",
       "\n",
       "       [[  5.    ,   0.8   ,   1.0212, ...,  15.4   ,  11.6   ,\n",
       "          21.1   ],\n",
       "        [  1.    ,   0.68  ,   1.0238, ...,  15.    ,   9.1   ,\n",
       "          20.9   ],\n",
       "        [  4.    ,   0.67  ,   1.017 , ...,  11.7   ,   7.9   ,\n",
       "          16.2   ],\n",
       "        ...,\n",
       "        [  3.    ,   0.84  ,   1.0263, ...,   3.4   ,   2.7   ,\n",
       "           4.1   ],\n",
       "        [  5.    ,   0.94  ,   1.016 , ...,   7.5   ,   5.1   ,\n",
       "          12.4   ],\n",
       "        [  5.    ,   0.82  ,   1.0142, ...,  10.7   ,   7.9   ,\n",
       "          13.5   ]],\n",
       "\n",
       "       [[  5.    ,   0.84  ,   1.0193, ...,  13.5   ,   9.9   ,\n",
       "          19.2   ],\n",
       "        [  4.    ,   0.68  ,   1.0235, ...,  14.4   ,  10.4   ,\n",
       "          18.4   ],\n",
       "        [  4.    ,   0.67  ,   1.017 , ...,  11.7   ,   7.9   ,\n",
       "          16.2   ],\n",
       "        ...,\n",
       "        [  4.    ,   0.84  ,   1.0263, ...,   1.7   ,   0.7   ,\n",
       "           2.7   ],\n",
       "        [  5.    ,   0.97  ,   1.0164, ...,   9.7   ,   5.    ,\n",
       "          12.6   ],\n",
       "        [  5.    ,   0.82  ,   1.0142, ...,  10.7   ,   7.9   ,\n",
       "          13.5   ]]])"
      ]
     },
     "execution_count": 25,
     "metadata": {},
     "output_type": "execute_result"
    }
   ],
   "source": [
    "#reshape\n",
    "X = X.reshape(-1,15,9)\n",
    "X"
   ]
  },
  {
   "cell_type": "code",
   "execution_count": 27,
   "id": "6988e69b-6c02-4ef9-bffc-a2f6bc2f858e",
   "metadata": {},
   "outputs": [],
   "source": [
    "# Split data into train and test sets\n",
    "X_train, X_test, y_train, y_test = train_test_split(X, y, test_size=0.2, random_state=42)"
   ]
  },
  {
   "cell_type": "code",
   "execution_count": 29,
   "id": "0d173f00-b868-416d-8327-5cc020f6b26f",
   "metadata": {},
   "outputs": [
    {
     "name": "stdout",
     "output_type": "stream",
     "text": [
      "Unique values in y_train: [ 0  1  2  3  4  5  6  7  8  9 10 11 13 14]\n",
      "Unique values in y_test: [ 0  1  2  3  4  5  6  7  8  9 10 11 13 14]\n"
     ]
    }
   ],
   "source": [
    "print(\"Unique values in y_train:\", np.unique(y_train))\n",
    "print(\"Unique values in y_test:\", np.unique(y_test))"
   ]
  },
  {
   "cell_type": "code",
   "execution_count": 31,
   "id": "923f8995-d90a-4483-8b64-6411bf98a8b7",
   "metadata": {},
   "outputs": [],
   "source": [
    "def create_cnn(neurons, kernel_size, dropout_rate, learning_rate, layers):\n",
    "    model = Sequential()\n",
    "    model.add(Conv1D(filters=int(neurons), kernel_size=int(kernel_size), activation='relu', input_shape=(15, 9)))\n",
    "    model.add(MaxPooling1D(pool_size=2))\n",
    "    model.add(BatchNormalization())\n",
    "    model.add(Dropout(dropout_rate))\n",
    "\n",
    "    for _ in range(int(layers)):\n",
    "        model.add(Dense(int(neurons), activation='relu'))\n",
    "        model.add(Dropout(dropout_rate))\n",
    "\n",
    "    model.add(Flatten())\n",
    "    model.add(Dense(15, activation='softmax'))  # 15 neurons for 15 classes\n",
    "    model.compile(\n",
    "        optimizer=Adam(learning_rate=learning_rate),\n",
    "        loss='sparse_categorical_crossentropy',\n",
    "        metrics=['accuracy']\n",
    "    )\n",
    "    return model"
   ]
  },
  {
   "cell_type": "code",
   "execution_count": 33,
   "id": "80ad5960-a78b-4e25-9966-50f2dcf87096",
   "metadata": {},
   "outputs": [
    {
     "name": "stdout",
     "output_type": "stream",
     "text": [
      "|   iter    |  target   | dropou... | kernel... |  layers   | learni... |  neurons  |\n",
      "-------------------------------------------------------------------------------------\n",
      "| \u001b[39m1        \u001b[39m | \u001b[39m0.8146   \u001b[39m | \u001b[39m0.2498   \u001b[39m | \u001b[39m4.852    \u001b[39m | \u001b[39m2.464    \u001b[39m | \u001b[39m0.006027 \u001b[39m | \u001b[39m33.47    \u001b[39m |\n",
      "| \u001b[39m2        \u001b[39m | \u001b[39m0.8057   \u001b[39m | \u001b[39m0.1624   \u001b[39m | \u001b[39m2.174    \u001b[39m | \u001b[39m2.732    \u001b[39m | \u001b[39m0.006051 \u001b[39m | \u001b[39m95.3     \u001b[39m |\n",
      "| \u001b[35m3        \u001b[39m | \u001b[35m0.8233   \u001b[39m | \u001b[35m0.1082   \u001b[39m | \u001b[35m4.91     \u001b[39m | \u001b[35m2.665    \u001b[39m | \u001b[35m0.002202 \u001b[39m | \u001b[35m36.36    \u001b[39m |\n",
      "| \u001b[35m4        \u001b[39m | \u001b[35m0.8536   \u001b[39m | \u001b[35m0.1734   \u001b[39m | \u001b[35m2.913    \u001b[39m | \u001b[35m2.05     \u001b[39m | \u001b[35m0.004376 \u001b[39m | \u001b[35m48.62    \u001b[39m |\n",
      "| \u001b[39m5        \u001b[39m | \u001b[39m0.8261   \u001b[39m | \u001b[39m0.3447   \u001b[39m | \u001b[39m2.418    \u001b[39m | \u001b[39m1.584    \u001b[39m | \u001b[39m0.003727 \u001b[39m | \u001b[39m67.08    \u001b[39m |\n",
      "| \u001b[39m6        \u001b[39m | \u001b[39m0.8061   \u001b[39m | \u001b[39m0.4141   \u001b[39m | \u001b[39m2.599    \u001b[39m | \u001b[39m2.028    \u001b[39m | \u001b[39m0.005965 \u001b[39m | \u001b[39m21.2     \u001b[39m |\n",
      "| \u001b[39m7        \u001b[39m | \u001b[39m0.802    \u001b[39m | \u001b[39m0.343    \u001b[39m | \u001b[39m2.512    \u001b[39m | \u001b[39m1.13     \u001b[39m | \u001b[39m0.009494 \u001b[39m | \u001b[39m124.2    \u001b[39m |\n",
      "| \u001b[39m8        \u001b[39m | \u001b[39m0.8022   \u001b[39m | \u001b[39m0.4234   \u001b[39m | \u001b[39m2.914    \u001b[39m | \u001b[39m1.195    \u001b[39m | \u001b[39m0.006874 \u001b[39m | \u001b[39m65.3     \u001b[39m |\n",
      "| \u001b[39m9        \u001b[39m | \u001b[39m0.8279   \u001b[39m | \u001b[39m0.1488   \u001b[39m | \u001b[39m3.486    \u001b[39m | \u001b[39m1.069    \u001b[39m | \u001b[39m0.009102 \u001b[39m | \u001b[39m44.98    \u001b[39m |\n",
      "| \u001b[39m10       \u001b[39m | \u001b[39m0.8237   \u001b[39m | \u001b[39m0.365    \u001b[39m | \u001b[39m2.935    \u001b[39m | \u001b[39m2.04     \u001b[39m | \u001b[39m0.005512 \u001b[39m | \u001b[39m36.7     \u001b[39m |\n",
      "| \u001b[39m11       \u001b[39m | \u001b[39m0.8288   \u001b[39m | \u001b[39m0.2559   \u001b[39m | \u001b[39m3.549    \u001b[39m | \u001b[39m1.022    \u001b[39m | \u001b[39m0.007917 \u001b[39m | \u001b[39m45.06    \u001b[39m |\n",
      "| \u001b[39m12       \u001b[39m | \u001b[39m0.8214   \u001b[39m | \u001b[39m0.3289   \u001b[39m | \u001b[39m4.353    \u001b[39m | \u001b[39m1.188    \u001b[39m | \u001b[39m0.006192 \u001b[39m | \u001b[39m48.69    \u001b[39m |\n",
      "| \u001b[39m13       \u001b[39m | \u001b[39m0.8364   \u001b[39m | \u001b[39m0.1037   \u001b[39m | \u001b[39m2.212    \u001b[39m | \u001b[39m1.998    \u001b[39m | \u001b[39m0.004308 \u001b[39m | \u001b[39m48.96    \u001b[39m |\n",
      "| \u001b[39m14       \u001b[39m | \u001b[39m0.8331   \u001b[39m | \u001b[39m0.1341   \u001b[39m | \u001b[39m3.047    \u001b[39m | \u001b[39m2.295    \u001b[39m | \u001b[39m0.007763 \u001b[39m | \u001b[39m47.99    \u001b[39m |\n",
      "| \u001b[39m15       \u001b[39m | \u001b[39m0.8375   \u001b[39m | \u001b[39m0.212    \u001b[39m | \u001b[39m3.343    \u001b[39m | \u001b[39m2.004    \u001b[39m | \u001b[39m0.003839 \u001b[39m | \u001b[39m49.12    \u001b[39m |\n",
      "| \u001b[39m16       \u001b[39m | \u001b[39m0.8327   \u001b[39m | \u001b[39m0.3084   \u001b[39m | \u001b[39m2.998    \u001b[39m | \u001b[39m1.563    \u001b[39m | \u001b[39m0.001872 \u001b[39m | \u001b[39m48.5     \u001b[39m |\n",
      "| \u001b[39m17       \u001b[39m | \u001b[39m0.7773   \u001b[39m | \u001b[39m0.4119   \u001b[39m | \u001b[39m2.769    \u001b[39m | \u001b[39m2.286    \u001b[39m | \u001b[39m0.009019 \u001b[39m | \u001b[39m48.55    \u001b[39m |\n",
      "| \u001b[39m18       \u001b[39m | \u001b[39m0.8163   \u001b[39m | \u001b[39m0.2788   \u001b[39m | \u001b[39m2.86     \u001b[39m | \u001b[39m1.745    \u001b[39m | \u001b[39m0.006303 \u001b[39m | \u001b[39m48.51    \u001b[39m |\n",
      "| \u001b[39m19       \u001b[39m | \u001b[39m0.8105   \u001b[39m | \u001b[39m0.2515   \u001b[39m | \u001b[39m2.796    \u001b[39m | \u001b[39m1.926    \u001b[39m | \u001b[39m0.002785 \u001b[39m | \u001b[39m48.64    \u001b[39m |\n",
      "| \u001b[39m20       \u001b[39m | \u001b[39m0.8392   \u001b[39m | \u001b[39m0.1534   \u001b[39m | \u001b[39m4.212    \u001b[39m | \u001b[39m1.603    \u001b[39m | \u001b[39m0.001976 \u001b[39m | \u001b[39m41.41    \u001b[39m |\n",
      "| \u001b[39m21       \u001b[39m | \u001b[39m0.8161   \u001b[39m | \u001b[39m0.2086   \u001b[39m | \u001b[39m3.955    \u001b[39m | \u001b[39m1.124    \u001b[39m | \u001b[39m0.007496 \u001b[39m | \u001b[39m123.4    \u001b[39m |\n",
      "| \u001b[39m22       \u001b[39m | \u001b[39m0.8512   \u001b[39m | \u001b[39m0.1685   \u001b[39m | \u001b[39m3.541    \u001b[39m | \u001b[39m1.121    \u001b[39m | \u001b[39m0.001807 \u001b[39m | \u001b[39m44.94    \u001b[39m |\n",
      "| \u001b[39m23       \u001b[39m | \u001b[39m0.7922   \u001b[39m | \u001b[39m0.411    \u001b[39m | \u001b[39m3.073    \u001b[39m | \u001b[39m2.675    \u001b[39m | \u001b[39m0.009353 \u001b[39m | \u001b[39m34.26    \u001b[39m |\n",
      "| \u001b[39m24       \u001b[39m | \u001b[39m0.8416   \u001b[39m | \u001b[39m0.3022   \u001b[39m | \u001b[39m3.535    \u001b[39m | \u001b[39m2.583    \u001b[39m | \u001b[39m0.003371 \u001b[39m | \u001b[39m119.3    \u001b[39m |\n",
      "| \u001b[39m25       \u001b[39m | \u001b[39m0.8375   \u001b[39m | \u001b[39m0.4456   \u001b[39m | \u001b[39m3.716    \u001b[39m | \u001b[39m1.833    \u001b[39m | \u001b[39m0.001914 \u001b[39m | \u001b[39m47.52    \u001b[39m |\n",
      "| \u001b[39m26       \u001b[39m | \u001b[39m0.8176   \u001b[39m | \u001b[39m0.333    \u001b[39m | \u001b[39m3.564    \u001b[39m | \u001b[39m2.532    \u001b[39m | \u001b[39m0.005969 \u001b[39m | \u001b[39m119.3    \u001b[39m |\n",
      "| \u001b[39m27       \u001b[39m | \u001b[39m0.8333   \u001b[39m | \u001b[39m0.3265   \u001b[39m | \u001b[39m2.156    \u001b[39m | \u001b[39m1.728    \u001b[39m | \u001b[39m0.001716 \u001b[39m | \u001b[39m33.35    \u001b[39m |\n",
      "| \u001b[39m28       \u001b[39m | \u001b[39m0.8129   \u001b[39m | \u001b[39m0.3144   \u001b[39m | \u001b[39m4.405    \u001b[39m | \u001b[39m2.652    \u001b[39m | \u001b[39m0.005539 \u001b[39m | \u001b[39m77.18    \u001b[39m |\n",
      "| \u001b[39m29       \u001b[39m | \u001b[39m0.8534   \u001b[39m | \u001b[39m0.1275   \u001b[39m | \u001b[39m2.208    \u001b[39m | \u001b[39m1.307    \u001b[39m | \u001b[39m0.003448 \u001b[39m | \u001b[39m57.8     \u001b[39m |\n",
      "| \u001b[39m30       \u001b[39m | \u001b[39m0.8214   \u001b[39m | \u001b[39m0.2746   \u001b[39m | \u001b[39m2.453    \u001b[39m | \u001b[39m2.156    \u001b[39m | \u001b[39m0.007276 \u001b[39m | \u001b[39m31.22    \u001b[39m |\n",
      "=====================================================================================\n",
      "Best Parameters: {'target': 0.8535947799682617, 'params': {'dropout_rate': 0.17336180394137352, 'kernel_size': 2.912726728878613, 'layers': 2.049512863264476, 'learning_rate': 0.004376255684556947, 'neurons': 48.61766370218069}}\n"
     ]
    }
   ],
   "source": [
    "# Function to evaluate CNN using given hyperparameters\n",
    "def cnn_evaluate(neurons, kernel_size, dropout_rate, learning_rate, layers):\n",
    "    model = create_cnn(neurons, kernel_size, dropout_rate, learning_rate, layers)\n",
    "    es = EarlyStopping(monitor='val_accuracy', patience=5, verbose=0, mode='max', restore_best_weights=True)\n",
    "    history = model.fit(X_train, y_train, epochs=10, batch_size=32, validation_split=0.2, callbacks=[es], verbose=0)\n",
    "    _, accuracy = model.evaluate(X_test, y_test, verbose=0)\n",
    "    return accuracy\n",
    "\n",
    "# Define the parameter space\n",
    "param_space = {\n",
    "    'neurons': (16, 128),\n",
    "    'kernel_size': (2, 5),\n",
    "    'dropout_rate': (0.1, 0.5),\n",
    "    'learning_rate': (0.0001, 0.01),\n",
    "    'layers': (1, 3)\n",
    "}\n",
    "\n",
    "# Use Bayesian Optimization\n",
    "optimizer = BayesianOptimization(\n",
    "    f=cnn_evaluate,\n",
    "    pbounds=param_space,\n",
    "    random_state=42,\n",
    "    verbose=2\n",
    ")\n",
    "\n",
    "# Optimize hyperparameters\n",
    "optimizer.maximize(init_points=10, n_iter=20)\n",
    "print(\"Best Parameters:\", optimizer.max)"
   ]
  },
  {
   "cell_type": "code",
   "execution_count": 34,
   "id": "47cf34cc-35b8-43e1-865d-ee68d995f3a0",
   "metadata": {},
   "outputs": [
    {
     "name": "stdout",
     "output_type": "stream",
     "text": [
      "Epoch 1/50\n",
      "459/459 - 7s - 16ms/step - accuracy: 0.7253 - loss: 0.7869 - val_accuracy: 0.7813 - val_loss: 0.6308\n",
      "Epoch 2/50\n",
      "459/459 - 3s - 6ms/step - accuracy: 0.7731 - loss: 0.6417 - val_accuracy: 0.7998 - val_loss: 0.5553\n",
      "Epoch 3/50\n",
      "459/459 - 3s - 7ms/step - accuracy: 0.7874 - loss: 0.5908 - val_accuracy: 0.7977 - val_loss: 0.5573\n",
      "Epoch 4/50\n",
      "459/459 - 3s - 6ms/step - accuracy: 0.7938 - loss: 0.5709 - val_accuracy: 0.8192 - val_loss: 0.5270\n",
      "Epoch 5/50\n",
      "459/459 - 3s - 6ms/step - accuracy: 0.8007 - loss: 0.5493 - val_accuracy: 0.8276 - val_loss: 0.4779\n",
      "Epoch 6/50\n",
      "459/459 - 6s - 13ms/step - accuracy: 0.8076 - loss: 0.5305 - val_accuracy: 0.8175 - val_loss: 0.4839\n",
      "Epoch 7/50\n",
      "459/459 - 3s - 7ms/step - accuracy: 0.8189 - loss: 0.5096 - val_accuracy: 0.8012 - val_loss: 0.5365\n",
      "Epoch 8/50\n",
      "459/459 - 3s - 6ms/step - accuracy: 0.8111 - loss: 0.5169 - val_accuracy: 0.8377 - val_loss: 0.4454\n",
      "Epoch 9/50\n",
      "459/459 - 5s - 11ms/step - accuracy: 0.8165 - loss: 0.5071 - val_accuracy: 0.7966 - val_loss: 0.5551\n",
      "Epoch 10/50\n",
      "459/459 - 3s - 6ms/step - accuracy: 0.8235 - loss: 0.4814 - val_accuracy: 0.7985 - val_loss: 0.5069\n",
      "Epoch 11/50\n",
      "459/459 - 3s - 6ms/step - accuracy: 0.8262 - loss: 0.4728 - val_accuracy: 0.8426 - val_loss: 0.4116\n",
      "Epoch 12/50\n",
      "459/459 - 2s - 5ms/step - accuracy: 0.8269 - loss: 0.4770 - val_accuracy: 0.7977 - val_loss: 0.5793\n",
      "Epoch 13/50\n",
      "459/459 - 2s - 5ms/step - accuracy: 0.8324 - loss: 0.4603 - val_accuracy: 0.7955 - val_loss: 0.5262\n",
      "Epoch 14/50\n",
      "459/459 - 2s - 5ms/step - accuracy: 0.8282 - loss: 0.4748 - val_accuracy: 0.8344 - val_loss: 0.4312\n",
      "Epoch 15/50\n",
      "459/459 - 3s - 7ms/step - accuracy: 0.8333 - loss: 0.4579 - val_accuracy: 0.8317 - val_loss: 0.4525\n",
      "Epoch 16/50\n",
      "459/459 - 3s - 6ms/step - accuracy: 0.8362 - loss: 0.4455 - val_accuracy: 0.8655 - val_loss: 0.3823\n",
      "Epoch 17/50\n",
      "459/459 - 3s - 6ms/step - accuracy: 0.8429 - loss: 0.4235 - val_accuracy: 0.8366 - val_loss: 0.4225\n",
      "Epoch 18/50\n",
      "459/459 - 3s - 7ms/step - accuracy: 0.8399 - loss: 0.4292 - val_accuracy: 0.7808 - val_loss: 0.6100\n",
      "Epoch 19/50\n",
      "459/459 - 3s - 6ms/step - accuracy: 0.8510 - loss: 0.4016 - val_accuracy: 0.7805 - val_loss: 0.6100\n",
      "Epoch 20/50\n",
      "459/459 - 2s - 5ms/step - accuracy: 0.8382 - loss: 0.4383 - val_accuracy: 0.8173 - val_loss: 0.4743\n",
      "Epoch 21/50\n",
      "459/459 - 3s - 6ms/step - accuracy: 0.8440 - loss: 0.4206 - val_accuracy: 0.8519 - val_loss: 0.3965\n",
      "Epoch 22/50\n",
      "459/459 - 3s - 6ms/step - accuracy: 0.8538 - loss: 0.3983 - val_accuracy: 0.8121 - val_loss: 0.5631\n",
      "Epoch 23/50\n",
      "459/459 - 3s - 7ms/step - accuracy: 0.8386 - loss: 0.4405 - val_accuracy: 0.8382 - val_loss: 0.4492\n",
      "Epoch 24/50\n",
      "459/459 - 3s - 6ms/step - accuracy: 0.8368 - loss: 0.4576 - val_accuracy: 0.7459 - val_loss: 0.7416\n",
      "Epoch 25/50\n",
      "459/459 - 5s - 11ms/step - accuracy: 0.8416 - loss: 0.4355 - val_accuracy: 0.8565 - val_loss: 0.3968\n",
      "Epoch 26/50\n",
      "459/459 - 3s - 6ms/step - accuracy: 0.8407 - loss: 0.4318 - val_accuracy: 0.8464 - val_loss: 0.4154\n",
      "Epoch 27/50\n",
      "459/459 - 3s - 6ms/step - accuracy: 0.8413 - loss: 0.4299 - val_accuracy: 0.8548 - val_loss: 0.4150\n",
      "Epoch 28/50\n",
      "459/459 - 3s - 7ms/step - accuracy: 0.8450 - loss: 0.4215 - val_accuracy: 0.8627 - val_loss: 0.3621\n",
      "Epoch 29/50\n",
      "459/459 - 3s - 7ms/step - accuracy: 0.8412 - loss: 0.4277 - val_accuracy: 0.8483 - val_loss: 0.4237\n",
      "Epoch 30/50\n",
      "459/459 - 3s - 6ms/step - accuracy: 0.8497 - loss: 0.4144 - val_accuracy: 0.8069 - val_loss: 0.4876\n",
      "Epoch 31/50\n",
      "459/459 - 4s - 10ms/step - accuracy: 0.8506 - loss: 0.4092 - val_accuracy: 0.8600 - val_loss: 0.4268\n",
      "Epoch 32/50\n",
      "459/459 - 4s - 9ms/step - accuracy: 0.8544 - loss: 0.4040 - val_accuracy: 0.8410 - val_loss: 0.4340\n",
      "Epoch 33/50\n",
      "459/459 - 4s - 8ms/step - accuracy: 0.8527 - loss: 0.3977 - val_accuracy: 0.8584 - val_loss: 0.4180\n",
      "Epoch 34/50\n",
      "459/459 - 4s - 9ms/step - accuracy: 0.8541 - loss: 0.3990 - val_accuracy: 0.8597 - val_loss: 0.3824\n",
      "Epoch 35/50\n",
      "459/459 - 5s - 11ms/step - accuracy: 0.8521 - loss: 0.4099 - val_accuracy: 0.8589 - val_loss: 0.3770\n",
      "Epoch 36/50\n",
      "459/459 - 3s - 7ms/step - accuracy: 0.8504 - loss: 0.4017 - val_accuracy: 0.8578 - val_loss: 0.3877\n",
      "Epoch 37/50\n",
      "459/459 - 3s - 7ms/step - accuracy: 0.8540 - loss: 0.3984 - val_accuracy: 0.8483 - val_loss: 0.3933\n",
      "Epoch 38/50\n",
      "459/459 - 5s - 11ms/step - accuracy: 0.8591 - loss: 0.3826 - val_accuracy: 0.8587 - val_loss: 0.3778\n",
      "Epoch 39/50\n",
      "459/459 - 3s - 7ms/step - accuracy: 0.8660 - loss: 0.3731 - val_accuracy: 0.8597 - val_loss: 0.3692\n",
      "Epoch 40/50\n",
      "459/459 - 2s - 5ms/step - accuracy: 0.8519 - loss: 0.4023 - val_accuracy: 0.8434 - val_loss: 0.4723\n",
      "Epoch 41/50\n",
      "459/459 - 3s - 6ms/step - accuracy: 0.8536 - loss: 0.3939 - val_accuracy: 0.8600 - val_loss: 0.3830\n",
      "Epoch 42/50\n",
      "459/459 - 3s - 7ms/step - accuracy: 0.8579 - loss: 0.3912 - val_accuracy: 0.8777 - val_loss: 0.3449\n",
      "Epoch 43/50\n",
      "459/459 - 4s - 9ms/step - accuracy: 0.8624 - loss: 0.3758 - val_accuracy: 0.8611 - val_loss: 0.4056\n",
      "Epoch 44/50\n",
      "459/459 - 3s - 6ms/step - accuracy: 0.8433 - loss: 0.4307 - val_accuracy: 0.8581 - val_loss: 0.3817\n",
      "Epoch 45/50\n",
      "459/459 - 3s - 6ms/step - accuracy: 0.8511 - loss: 0.4024 - val_accuracy: 0.8720 - val_loss: 0.3688\n",
      "Epoch 46/50\n",
      "459/459 - 3s - 7ms/step - accuracy: 0.8563 - loss: 0.3969 - val_accuracy: 0.8747 - val_loss: 0.3478\n",
      "Epoch 47/50\n",
      "459/459 - 3s - 6ms/step - accuracy: 0.8590 - loss: 0.3979 - val_accuracy: 0.8728 - val_loss: 0.3485\n",
      "Epoch 48/50\n",
      "459/459 - 5s - 10ms/step - accuracy: 0.8585 - loss: 0.3874 - val_accuracy: 0.8224 - val_loss: 0.4839\n",
      "Epoch 49/50\n",
      "459/459 - 2s - 5ms/step - accuracy: 0.8607 - loss: 0.3778 - val_accuracy: 0.8826 - val_loss: 0.3537\n",
      "Epoch 50/50\n",
      "459/459 - 2s - 5ms/step - accuracy: 0.8627 - loss: 0.3762 - val_accuracy: 0.8028 - val_loss: 0.5033\n"
     ]
    }
   ],
   "source": [
    "# Extract best parameters\n",
    "best_params = optimizer.max['params']\n",
    "\n",
    "# Train the CNN with the best parameters\n",
    "model = create_cnn(\n",
    "    neurons=int(best_params['neurons']),\n",
    "    kernel_size=int(best_params['kernel_size']),\n",
    "    dropout_rate=best_params['dropout_rate'],\n",
    "    learning_rate=best_params['learning_rate'],\n",
    "    layers=int(best_params['layers'])\n",
    ")\n",
    "\n",
    "# Train the model\n",
    "history = model.fit(X_train, y_train, epochs=50, batch_size=32, validation_split=0.2, verbose=2)"
   ]
  },
  {
   "cell_type": "code",
   "execution_count": 35,
   "id": "7e02c00e-cf1a-4e2e-8902-c17f1507c870",
   "metadata": {},
   "outputs": [
    {
     "name": "stdout",
     "output_type": "stream",
     "text": [
      "\u001b[1m144/144\u001b[0m \u001b[32m━━━━━━━━━━━━━━━━━━━━\u001b[0m\u001b[37m\u001b[0m \u001b[1m1s\u001b[0m 3ms/step\n",
      "Classification Report:\n",
      "               precision    recall  f1-score   support\n",
      "\n",
      "           0       0.86      0.96      0.91      2955\n",
      "           1       0.95      0.60      0.73       879\n",
      "           2       0.51      0.57      0.53       162\n",
      "           3       0.62      0.25      0.36        64\n",
      "           4       0.17      0.36      0.23        25\n",
      "           5       0.61      0.28      0.39        67\n",
      "           6       0.12      0.22      0.15         9\n",
      "           7       0.50      0.15      0.23        46\n",
      "           8       0.08      0.14      0.10         7\n",
      "           9       0.63      0.62      0.63       360\n",
      "          10       0.00      0.00      0.00         8\n",
      "          11       0.22      1.00      0.36         4\n",
      "          13       0.00      0.00      0.00         3\n",
      "          14       0.00      0.00      0.00         1\n",
      "\n",
      "    accuracy                           0.82      4590\n",
      "   macro avg       0.38      0.37      0.33      4590\n",
      "weighted avg       0.82      0.82      0.81      4590\n",
      "\n"
     ]
    },
    {
     "data": {
      "image/png": "[encoded data removed]",
      "text/plain": [
       "<Figure size 1000x700 with 2 Axes>"
      ]
     },
     "metadata": {},
     "output_type": "display_data"
    }
   ],
   "source": [
    "# Evaluate on test data\n",
    "y_pred = np.argmax(model.predict(X_test), axis=1)\n",
    "print(\"Classification Report:\\n\", classification_report(y_test, y_pred))\n",
    "\n",
    "# Confusion matrix\n",
    "conf_matrix = confusion_matrix(y_test, y_pred)\n",
    "plt.figure(figsize=(10, 7))\n",
    "sns.heatmap(conf_matrix, annot=True, fmt='d', cmap='Blues')\n",
    "plt.xlabel('Predicted')\n",
    "plt.ylabel('Actual')\n",
    "plt.title('Confusion Matrix')\n",
    "plt.show()"
   ]
  },
  {
   "cell_type": "code",
   "execution_count": 36,
   "id": "9e18afde-8060-4dfc-8fe4-fa55447ad8f7",
   "metadata": {},
   "outputs": [
    {
     "name": "stderr",
     "output_type": "stream",
     "text": [
      "WARNING:absl:You are saving your model as an HDF5 file via `model.save()` or `keras.saving.save_model(model)`. This file format is considered legacy. We recommend using instead the native Keras format, e.g. `model.save('my_model.keras')` or `keras.saving.save_model(model, 'my_model.keras')`. \n"
     ]
    },
    {
     "data": {
      "text/plain": [
       "<Figure size 640x480 with 0 Axes>"
      ]
     },
     "metadata": {},
     "output_type": "display_data"
    }
   ],
   "source": [
    "# Save model\n",
    "model.save(\"optimized_cnn_model.h5\")\n",
    "\n",
    "# Save confusion matrix\n",
    "plt.savefig(\"confusion_matrix.png\")\n",
    "\n",
    "# Save observations\n",
    "with open(\"observations.txt\", \"w\") as f:\n",
    "    f.write(\"Optimized CNN Model Observations:\\n\")\n",
    "    f.write(f\"Best Parameters: {best_params}\\n\")\n",
    "    f.write(f\"Test Accuracy: {history.history['accuracy'][-1]}\\n\")\n",
    "    f.write(f\"Validation Accuracy: {history.history['val_accuracy'][-1]}\\n\")"
   ]
  },
  {
   "cell_type": "code",
   "execution_count": null,
   "id": "89c9a21d-c351-48f6-8360-d96e8b2a1890",
   "metadata": {},
   "outputs": [],
   "source": []
  }
 ],
 "metadata": {
  "kernelspec": {
   "display_name": "Python 3 (ipykernel)",
   "language": "python",
   "name": "python3"
  },
  "language_info": {
   "codemirror_mode": {
    "name": "ipython",
    "version": 3
   },
   "file_extension": ".py",
   "mimetype": "text/x-python",
   "name": "python",
   "nbconvert_exporter": "python",
   "pygments_lexer": "ipython3",
   "version": "3.11.7"
  }
 },
 "nbformat": 4,
 "nbformat_minor": 5
}
