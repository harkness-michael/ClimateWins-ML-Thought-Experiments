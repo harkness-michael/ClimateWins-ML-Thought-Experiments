{
 "cells": [
  {
   "cell_type": "code",
   "execution_count": 64,
   "id": "d95feac3-3325-4458-afd2-855bd69e7c7e",
   "metadata": {},
   "outputs": [],
   "source": [
    "import pandas as pd\n",
    "import numpy as np\n",
    "import seaborn as sns\n",
    "import os\n",
    "import operator\n",
    "import time\n",
    "import time\n",
    "from sklearn.model_selection import GridSearchCV\n",
    "from scipy.stats import randint\n",
    "from sklearn.model_selection import RandomizedSearchCV\n",
    "import matplotlib.pyplot as plt\n",
    "from sklearn.preprocessing import LabelEncoder\n",
    "from sklearn.model_selection import train_test_split\n",
    "from sklearn.metrics import make_scorer, accuracy_score\n",
    "from sklearn.model_selection import StratifiedKFold\n",
    "from sklearn.utils.multiclass import type_of_target\n",
    "from sklearn.ensemble import RandomForestClassifier\n",
    "import tensorflow as tf\n",
    "from numpy import unique\n",
    "from numpy import reshape\n",
    "from tensorflow.keras.models import Sequential\n",
    "from sklearn.model_selection import cross_val_score\n",
    "from tensorflow.keras.layers import Input, Conv1D, Dense, Dropout, BatchNormalization, Flatten, MaxPooling1D\n",
    "from tensorflow.keras.utils import to_categorical\n",
    "from tensorflow.keras.optimizers import Adam, SGD, RMSprop, Adadelta, Adagrad, Adamax, Nadam, Ftrl\n",
    "from tensorflow.keras.callbacks import EarlyStopping, ModelCheckpoint\n",
    "from math import floor\n",
    "from bayes_opt import BayesianOptimization\n",
    "from tensorflow.keras.layers import LeakyReLU  # Use tensorflow.keras instead of keras\n",
    "LeakyReLU = LeakyReLU(negative_slope=0.1)\n",
    "import warnings"
   ]
  },
  {
   "cell_type": "code",
   "execution_count": 2,
   "id": "176b105e-9d23-4513-87a4-be3ffd717b2a",
   "metadata": {},
   "outputs": [],
   "source": [
    "path = r'C:\\Users\\harkn\\OneDrive\\Desktop\\Tasks\\Machine Learning in Python\\Achievement 2\\Project Data'"
   ]
  },
  {
   "cell_type": "code",
   "execution_count": 3,
   "id": "dd18b397-177e-4948-9bd1-94aba7cbcba8",
   "metadata": {},
   "outputs": [
    {
     "data": {
      "text/plain": [
       "Index(['BASEL_cloud_cover', 'BASEL_humidity', 'BASEL_pressure',\n",
       "       'BASEL_global_radiation', 'BASEL_precipitation', 'BASEL_sunshine',\n",
       "       'BASEL_temp_mean', 'BASEL_temp_min', 'BASEL_temp_max',\n",
       "       'BELGRADE_cloud_cover',\n",
       "       ...\n",
       "       'STOCKHOLM_temp_max', 'VALENTIA_cloud_cover', 'VALENTIA_humidity',\n",
       "       'VALENTIA_pressure', 'VALENTIA_global_radiation',\n",
       "       'VALENTIA_precipitation', 'VALENTIA_sunshine', 'VALENTIA_temp_mean',\n",
       "       'VALENTIA_temp_min', 'VALENTIA_temp_max'],\n",
       "      dtype='object', length=135)"
      ]
     },
     "execution_count": 3,
     "metadata": {},
     "output_type": "execute_result"
    }
   ],
   "source": [
    "df_weather = pd.read_csv(os.path.join(path, 'DATASET_weather_clean_1-10.csv'))\n",
    "df_answers = pd.read_csv(os.path.join(path, 'DATASET_predictions.csv'))\n",
    "df_weather.columns"
   ]
  },
  {
   "cell_type": "code",
   "execution_count": 4,
   "id": "9d04bbd6-5e53-4ece-8edf-8649cf8e1b6b",
   "metadata": {},
   "outputs": [
    {
     "data": {
      "text/html": [
       "<div>\n",
       "<style scoped>\n",
       "    .dataframe tbody tr th:only-of-type {\n",
       "        vertical-align: middle;\n",
       "    }\n",
       "\n",
       "    .dataframe tbody tr th {\n",
       "        vertical-align: top;\n",
       "    }\n",
       "\n",
       "    .dataframe thead th {\n",
       "        text-align: right;\n",
       "    }\n",
       "</style>\n",
       "<table border=\"1\" class=\"dataframe\">\n",
       "  <thead>\n",
       "    <tr style=\"text-align: right;\">\n",
       "      <th></th>\n",
       "      <th>BASEL_pleasant_weather</th>\n",
       "      <th>BELGRADE_pleasant_weather</th>\n",
       "      <th>BUDAPEST_pleasant_weather</th>\n",
       "      <th>DEBILT_pleasant_weather</th>\n",
       "      <th>DUSSELDORF_pleasant_weather</th>\n",
       "      <th>HEATHROW_pleasant_weather</th>\n",
       "      <th>KASSEL_pleasant_weather</th>\n",
       "      <th>LJUBLJANA_pleasant_weather</th>\n",
       "      <th>MAASTRICHT_pleasant_weather</th>\n",
       "      <th>MADRID_pleasant_weather</th>\n",
       "      <th>MUNCHENB_pleasant_weather</th>\n",
       "      <th>OSLO_pleasant_weather</th>\n",
       "      <th>SONNBLICK_pleasant_weather</th>\n",
       "      <th>STOCKHOLM_pleasant_weather</th>\n",
       "      <th>VALENTIA_pleasant_weather</th>\n",
       "    </tr>\n",
       "  </thead>\n",
       "  <tbody>\n",
       "    <tr>\n",
       "      <th>0</th>\n",
       "      <td>0</td>\n",
       "      <td>0</td>\n",
       "      <td>0</td>\n",
       "      <td>0</td>\n",
       "      <td>0</td>\n",
       "      <td>0</td>\n",
       "      <td>0</td>\n",
       "      <td>0</td>\n",
       "      <td>0</td>\n",
       "      <td>0</td>\n",
       "      <td>0</td>\n",
       "      <td>0</td>\n",
       "      <td>0</td>\n",
       "      <td>0</td>\n",
       "      <td>0</td>\n",
       "    </tr>\n",
       "    <tr>\n",
       "      <th>1</th>\n",
       "      <td>0</td>\n",
       "      <td>0</td>\n",
       "      <td>0</td>\n",
       "      <td>0</td>\n",
       "      <td>0</td>\n",
       "      <td>0</td>\n",
       "      <td>0</td>\n",
       "      <td>0</td>\n",
       "      <td>0</td>\n",
       "      <td>0</td>\n",
       "      <td>0</td>\n",
       "      <td>0</td>\n",
       "      <td>0</td>\n",
       "      <td>0</td>\n",
       "      <td>0</td>\n",
       "    </tr>\n",
       "    <tr>\n",
       "      <th>2</th>\n",
       "      <td>0</td>\n",
       "      <td>0</td>\n",
       "      <td>0</td>\n",
       "      <td>0</td>\n",
       "      <td>0</td>\n",
       "      <td>0</td>\n",
       "      <td>0</td>\n",
       "      <td>0</td>\n",
       "      <td>0</td>\n",
       "      <td>0</td>\n",
       "      <td>0</td>\n",
       "      <td>0</td>\n",
       "      <td>0</td>\n",
       "      <td>0</td>\n",
       "      <td>0</td>\n",
       "    </tr>\n",
       "    <tr>\n",
       "      <th>3</th>\n",
       "      <td>0</td>\n",
       "      <td>0</td>\n",
       "      <td>0</td>\n",
       "      <td>0</td>\n",
       "      <td>0</td>\n",
       "      <td>0</td>\n",
       "      <td>0</td>\n",
       "      <td>0</td>\n",
       "      <td>0</td>\n",
       "      <td>0</td>\n",
       "      <td>0</td>\n",
       "      <td>0</td>\n",
       "      <td>0</td>\n",
       "      <td>0</td>\n",
       "      <td>0</td>\n",
       "    </tr>\n",
       "    <tr>\n",
       "      <th>4</th>\n",
       "      <td>0</td>\n",
       "      <td>0</td>\n",
       "      <td>0</td>\n",
       "      <td>0</td>\n",
       "      <td>0</td>\n",
       "      <td>0</td>\n",
       "      <td>0</td>\n",
       "      <td>0</td>\n",
       "      <td>0</td>\n",
       "      <td>0</td>\n",
       "      <td>0</td>\n",
       "      <td>0</td>\n",
       "      <td>0</td>\n",
       "      <td>0</td>\n",
       "      <td>0</td>\n",
       "    </tr>\n",
       "  </tbody>\n",
       "</table>\n",
       "</div>"
      ],
      "text/plain": [
       "   BASEL_pleasant_weather  BELGRADE_pleasant_weather  \\\n",
       "0                       0                          0   \n",
       "1                       0                          0   \n",
       "2                       0                          0   \n",
       "3                       0                          0   \n",
       "4                       0                          0   \n",
       "\n",
       "   BUDAPEST_pleasant_weather  DEBILT_pleasant_weather  \\\n",
       "0                          0                        0   \n",
       "1                          0                        0   \n",
       "2                          0                        0   \n",
       "3                          0                        0   \n",
       "4                          0                        0   \n",
       "\n",
       "   DUSSELDORF_pleasant_weather  HEATHROW_pleasant_weather  \\\n",
       "0                            0                          0   \n",
       "1                            0                          0   \n",
       "2                            0                          0   \n",
       "3                            0                          0   \n",
       "4                            0                          0   \n",
       "\n",
       "   KASSEL_pleasant_weather  LJUBLJANA_pleasant_weather  \\\n",
       "0                        0                           0   \n",
       "1                        0                           0   \n",
       "2                        0                           0   \n",
       "3                        0                           0   \n",
       "4                        0                           0   \n",
       "\n",
       "   MAASTRICHT_pleasant_weather  MADRID_pleasant_weather  \\\n",
       "0                            0                        0   \n",
       "1                            0                        0   \n",
       "2                            0                        0   \n",
       "3                            0                        0   \n",
       "4                            0                        0   \n",
       "\n",
       "   MUNCHENB_pleasant_weather  OSLO_pleasant_weather  \\\n",
       "0                          0                      0   \n",
       "1                          0                      0   \n",
       "2                          0                      0   \n",
       "3                          0                      0   \n",
       "4                          0                      0   \n",
       "\n",
       "   SONNBLICK_pleasant_weather  STOCKHOLM_pleasant_weather  \\\n",
       "0                           0                           0   \n",
       "1                           0                           0   \n",
       "2                           0                           0   \n",
       "3                           0                           0   \n",
       "4                           0                           0   \n",
       "\n",
       "   VALENTIA_pleasant_weather  \n",
       "0                          0  \n",
       "1                          0  \n",
       "2                          0  \n",
       "3                          0  \n",
       "4                          0  "
      ]
     },
     "execution_count": 4,
     "metadata": {},
     "output_type": "execute_result"
    }
   ],
   "source": [
    "df_answers = df_answers.drop(columns=['DATE'])\n",
    "df_answers.head()"
   ]
  },
  {
   "cell_type": "code",
   "execution_count": 5,
   "id": "db7bf14b-4208-44a7-9cfd-21225f3c1d44",
   "metadata": {},
   "outputs": [],
   "source": [
    "# Turn X and answers from a df to arrays\n",
    "\n",
    "X = np.array(df_weather)\n",
    "y = np.array(df_answers)"
   ]
  },
  {
   "cell_type": "code",
   "execution_count": 6,
   "id": "a9d4668d-63c6-44a0-93d3-a9f90809082d",
   "metadata": {},
   "outputs": [
    {
     "data": {
      "text/plain": [
       "(22950, 15, 9)"
      ]
     },
     "execution_count": 6,
     "metadata": {},
     "output_type": "execute_result"
    }
   ],
   "source": [
    "X = X.reshape(-1,15,9)\n",
    "X.shape"
   ]
  },
  {
   "cell_type": "code",
   "execution_count": 7,
   "id": "66e8eb1e-adbf-4d21-8ea6-d92df101da90",
   "metadata": {},
   "outputs": [
    {
     "data": {
      "text/plain": [
       "array([0, 0, 0, ..., 0, 0, 0], dtype=int64)"
      ]
     },
     "execution_count": 7,
     "metadata": {},
     "output_type": "execute_result"
    }
   ],
   "source": [
    "# Use argmax to transform y\n",
    "\n",
    "y =  np.argmax(y, axis = 1)\n",
    "y"
   ]
  },
  {
   "cell_type": "code",
   "execution_count": 8,
   "id": "735c2667-7325-4332-b44a-c5b92bd04801",
   "metadata": {},
   "outputs": [
    {
     "data": {
      "text/plain": [
       "(22950,)"
      ]
     },
     "execution_count": 8,
     "metadata": {},
     "output_type": "execute_result"
    }
   ],
   "source": [
    "y.shape"
   ]
  },
  {
   "cell_type": "code",
   "execution_count": 9,
   "id": "20b08b2c-c90c-4247-8794-ab9b123b60a7",
   "metadata": {},
   "outputs": [
    {
     "name": "stdout",
     "output_type": "stream",
     "text": [
      "(18360, 15, 9) (18360,)\n",
      "(4590, 15, 9) (4590,)\n"
     ]
    }
   ],
   "source": [
    "# Split data\n",
    "X_train, X_test, y_train, y_test = train_test_split(X,y, test_size=0.2, random_state=42)\n",
    "print(X_train.shape, y_train.shape)\n",
    "print(X_test.shape, y_test.shape)"
   ]
  },
  {
   "cell_type": "code",
   "execution_count": 10,
   "id": "08abe471-b84e-46a9-a9ac-aa7b0b0b175d",
   "metadata": {},
   "outputs": [
    {
     "name": "stdout",
     "output_type": "stream",
     "text": [
      "(18360, 135)\n",
      "(4590, 135)\n"
     ]
    }
   ],
   "source": [
    "# Reshape 3D (n_samples, timesteps, features) to 2D (n_samples, timesteps * features)\n",
    "X_train_flat = X_train.reshape(X_train.shape[0], -1)\n",
    "X_test_flat = X_test.reshape(X_test.shape[0], -1)\n",
    "\n",
    "print(X_train_flat.shape)  # Should be (18360, 15 * 9)\n",
    "print(X_test_flat.shape)   # Should be (4590, 15 * 9)"
   ]
  },
  {
   "cell_type": "code",
   "execution_count": 11,
   "id": "897fca71-e515-4a39-8802-e6fe572ac069",
   "metadata": {},
   "outputs": [
    {
     "name": "stdout",
     "output_type": "stream",
     "text": [
      "Accuracy: 0.9342047930283225\n"
     ]
    }
   ],
   "source": [
    "clf = RandomForestClassifier(n_estimators=100, random_state=42)\n",
    "clf.fit(X_train_flat, y_train)\n",
    "\n",
    "# Make predictions\n",
    "y_pred = clf.predict(X_test_flat)\n",
    "\n",
    "# Evaluate accuracy\n",
    "from sklearn.metrics import accuracy_score\n",
    "print(\"Accuracy:\", accuracy_score(y_test, y_pred))"
   ]
  },
  {
   "cell_type": "code",
   "execution_count": 12,
   "id": "04a48fab-5792-4955-b105-e6576e3558d6",
   "metadata": {},
   "outputs": [
    {
     "name": "stdout",
     "output_type": "stream",
     "text": [
      "(18360, 15, 9) (18360,)\n",
      "(4590, 15, 9) (4590,)\n"
     ]
    }
   ],
   "source": [
    "print(X_train.shape, y_train.shape)\n",
    "print(X_test.shape, y_test.shape)"
   ]
  },
  {
   "cell_type": "code",
   "execution_count": 25,
   "id": "18a66440-a600-4efb-a8f2-fa294c3c2c8a",
   "metadata": {},
   "outputs": [],
   "source": [
    "timesteps = len(X_train[0])\n",
    "input_dim = len(X_train[0][0])\n",
    "n_classes = 15 # Number of weather stations\n",
    "# Make scorer accuracy\n",
    "score_acc = make_scorer(accuracy_score)\n",
    "\n",
    "def cnn_model(neurons, kernel, activation, optimizer, learning_rate, layers1, layers2, normalization, dropout, dropout_rate):\n",
    "    activationL = ['relu', 'sigmoid', 'tanh']\n",
    "    optimizerL = ['Adam', 'SGD', 'RMSprop']  # Use a list instead of a dictionary\n",
    "\n",
    "    # Convert integer index to actual values\n",
    "    activation = activationL[int(activation)]\n",
    "    optimizer_name = optimizerL[int(optimizer)]\n",
    "\n",
    "    # Map optimizer name to the corresponding TensorFlow optimizer class\n",
    "    optimizer_mapping = {\n",
    "        'Adam': Adam(learning_rate=learning_rate),\n",
    "        'SGD': SGD(learning_rate=learning_rate),\n",
    "        'RMSprop': RMSprop(learning_rate=learning_rate)\n",
    "    }\n",
    "    optimizer = optimizer_mapping[optimizer_name]\n",
    "\n",
    "    # Build the model\n",
    "    model = Sequential()\n",
    "    model.add(Conv1D(neurons, kernel_size=int(kernel), activation=activation, input_shape=(timesteps, input_dim)))\n",
    "    \n",
    "    if normalization > 0.5:\n",
    "        model.add(BatchNormalization())\n",
    "    for _ in range(int(layers1)):\n",
    "        model.add(Dense(neurons, activation=activation))\n",
    "    if dropout > 0.5:\n",
    "        model.add(Dropout(dropout_rate))\n",
    "    for _ in range(int(layers2)):\n",
    "        model.add(Dense(neurons, activation=activation))\n",
    "    model.add(MaxPooling1D())\n",
    "    model.add(Flatten())\n",
    "    model.add(Dense(n_classes, activation='softmax'))\n",
    "    \n",
    "    model.compile(optimizer=optimizer, loss='sparse_categorical_crossentropy', metrics=['accuracy'])\n",
    "    return model"
   ]
  },
  {
   "cell_type": "code",
   "execution_count": 26,
   "id": "eca8ff0c-606c-4af0-a0a6-684d7f269c99",
   "metadata": {},
   "outputs": [],
   "source": [
    "def train_and_evaluate(neurons, kernel, activation, optimizer, learning_rate, batch_size, epochs, layers1, layers2, normalization, dropout, dropout_rate):\n",
    "    model = cnn_model(neurons, kernel, activation, optimizer, learning_rate, layers1, layers2, normalization, dropout, dropout_rate)\n",
    "    \n",
    "    # Early stopping\n",
    "    es = EarlyStopping(monitor='val_accuracy', patience=5, verbose=1, mode='max', restore_best_weights=True)\n",
    "    \n",
    "    # Train the model\n",
    "    history = model.fit(\n",
    "        X_train, y_train,\n",
    "        epochs=int(epochs),\n",
    "        batch_size=int(batch_size),\n",
    "        validation_split=0.2,\n",
    "        callbacks=[es],\n",
    "        verbose=0\n",
    "    )\n",
    "    \n",
    "    # Evaluate on the validation data\n",
    "    val_acc = max(history.history['val_accuracy'])\n",
    "    return val_acc\n"
   ]
  },
  {
   "cell_type": "code",
   "execution_count": 27,
   "id": "9f58ec04-3ba0-42f3-abfb-a788fa687238",
   "metadata": {},
   "outputs": [
    {
     "name": "stdout",
     "output_type": "stream",
     "text": [
      "|   iter    |  target   | activa... | batch_... |  dropout  | dropou... |  epochs   |  kernel   |  layers1  |  layers2  | learni... |  neurons  | normal... | optimizer |\n",
      "-------------------------------------------------------------------------------------------------------------------------------------------------------------------------\n"
     ]
    },
    {
     "name": "stderr",
     "output_type": "stream",
     "text": [
      "C:\\Users\\harkn\\anaconda3\\Lib\\site-packages\\keras\\src\\layers\\convolutional\\base_conv.py:107: UserWarning: Do not pass an `input_shape`/`input_dim` argument to a layer. When using Sequential models, prefer using an `Input(shape)` object as the first layer in the model instead.\n",
      "  super().__init__(activity_regularizer=activity_regularizer, **kwargs)\n"
     ]
    },
    {
     "name": "stdout",
     "output_type": "stream",
     "text": [
      "Restoring model weights from the end of the best epoch: 14.\n",
      "| \u001b[39m1        \u001b[39m | \u001b[39m0.7682   \u001b[39m | \u001b[39m0.7491   \u001b[39m | \u001b[39m122.5    \u001b[39m | \u001b[39m0.732    \u001b[39m | \u001b[39m0.2993   \u001b[39m | \u001b[39m16.24    \u001b[39m | \u001b[39m1.312    \u001b[39m | \u001b[39m1.116    \u001b[39m | \u001b[39m2.732    \u001b[39m | \u001b[39m0.06051  \u001b[39m | \u001b[39m73.73    \u001b[39m | \u001b[39m0.02058  \u001b[39m | \u001b[39m1.94     \u001b[39m |\n",
      "Epoch 11: early stopping\n",
      "Restoring model weights from the end of the best epoch: 6.\n",
      "| \u001b[39m2        \u001b[39m | \u001b[39m0.7426   \u001b[39m | \u001b[39m1.665    \u001b[39m | \u001b[39m39.78    \u001b[39m | \u001b[39m0.1818   \u001b[39m | \u001b[39m0.0917   \u001b[39m | \u001b[39m22.17    \u001b[39m | \u001b[39m2.05     \u001b[39m | \u001b[39m1.864    \u001b[39m | \u001b[39m1.582    \u001b[39m | \u001b[39m0.06157  \u001b[39m | \u001b[39m22.55    \u001b[39m | \u001b[39m0.2921   \u001b[39m | \u001b[39m0.7327   \u001b[39m |\n",
      "Restoring model weights from the end of the best epoch: 32.\n",
      "| \u001b[35m3        \u001b[39m | \u001b[35m0.8151   \u001b[39m | \u001b[35m0.9121   \u001b[39m | \u001b[35m103.9    \u001b[39m | \u001b[35m0.1997   \u001b[39m | \u001b[35m0.2571   \u001b[39m | \u001b[35m33.7     \u001b[39m | \u001b[35m1.093    \u001b[39m | \u001b[35m2.215    \u001b[39m | \u001b[35m1.341    \u001b[39m | \u001b[35m0.00744  \u001b[39m | \u001b[35m95.4     \u001b[39m | \u001b[35m0.9656   \u001b[39m | \u001b[35m1.617    \u001b[39m |\n",
      "Restoring model weights from the end of the best epoch: 12.\n",
      "| \u001b[39m4        \u001b[39m | \u001b[39m0.7884   \u001b[39m | \u001b[39m0.6092   \u001b[39m | \u001b[39m26.94    \u001b[39m | \u001b[39m0.6842   \u001b[39m | \u001b[39m0.2201   \u001b[39m | \u001b[39m14.88    \u001b[39m | \u001b[39m1.99     \u001b[39m | \u001b[39m1.069    \u001b[39m | \u001b[39m2.819    \u001b[39m | \u001b[39m0.02662  \u001b[39m | \u001b[39m69.63    \u001b[39m | \u001b[39m0.3117   \u001b[39m | \u001b[39m1.04     \u001b[39m |\n",
      "Epoch 33: early stopping\n",
      "Restoring model weights from the end of the best epoch: 28.\n",
      "| \u001b[35m5        \u001b[39m | \u001b[35m0.8467   \u001b[39m | \u001b[35m1.093    \u001b[39m | \u001b[35m36.7     \u001b[39m | \u001b[35m0.9696   \u001b[39m | \u001b[35m0.3876   \u001b[39m | \u001b[35m47.58    \u001b[39m | \u001b[35m2.79     \u001b[39m | \u001b[35m2.196    \u001b[39m | \u001b[35m2.844    \u001b[39m | \u001b[35m0.009761 \u001b[39m | \u001b[35m27.64    \u001b[39m | \u001b[35m0.04523  \u001b[39m | \u001b[35m0.6507   \u001b[39m |\n"
     ]
    },
    {
     "name": "stderr",
     "output_type": "stream",
     "text": [
      "C:\\Users\\harkn\\anaconda3\\Lib\\site-packages\\keras\\src\\layers\\convolutional\\base_conv.py:107: UserWarning: Do not pass an `input_shape`/`input_dim` argument to a layer. When using Sequential models, prefer using an `Input(shape)` object as the first layer in the model instead.\n",
      "  super().__init__(activity_regularizer=activity_regularizer, **kwargs)\n"
     ]
    },
    {
     "name": "stdout",
     "output_type": "stream",
     "text": [
      "Epoch 25: early stopping\n",
      "Restoring model weights from the end of the best epoch: 20.\n",
      "| \u001b[39m6        \u001b[39m | \u001b[39m0.8333   \u001b[39m | \u001b[39m1.446    \u001b[39m | \u001b[39m36.57    \u001b[39m | \u001b[39m0.9054   \u001b[39m | \u001b[39m0.371    \u001b[39m | \u001b[39m47.31    \u001b[39m | \u001b[39m2.758    \u001b[39m | \u001b[39m2.099    \u001b[39m | \u001b[39m1.304    \u001b[39m | \u001b[39m0.02292  \u001b[39m | \u001b[39m28.16    \u001b[39m | \u001b[39m0.2206   \u001b[39m | \u001b[39m0.9528   \u001b[39m |\n"
     ]
    },
    {
     "name": "stderr",
     "output_type": "stream",
     "text": [
      "C:\\Users\\harkn\\anaconda3\\Lib\\site-packages\\keras\\src\\layers\\convolutional\\base_conv.py:107: UserWarning: Do not pass an `input_shape`/`input_dim` argument to a layer. When using Sequential models, prefer using an `Input(shape)` object as the first layer in the model instead.\n",
      "  super().__init__(activity_regularizer=activity_regularizer, **kwargs)\n"
     ]
    },
    {
     "name": "stdout",
     "output_type": "stream",
     "text": [
      "Epoch 6: early stopping\n",
      "Restoring model weights from the end of the best epoch: 1.\n",
      "| \u001b[39m7        \u001b[39m | \u001b[39m0.6476   \u001b[39m | \u001b[39m0.3666   \u001b[39m | \u001b[39m35.37    \u001b[39m | \u001b[39m0.7553   \u001b[39m | \u001b[39m0.4941   \u001b[39m | \u001b[39m47.07    \u001b[39m | \u001b[39m1.399    \u001b[39m | \u001b[39m1.583    \u001b[39m | \u001b[39m2.8      \u001b[39m | \u001b[39m0.0887   \u001b[39m | \u001b[39m22.21    \u001b[39m | \u001b[39m0.1265   \u001b[39m | \u001b[39m0.5357   \u001b[39m |\n"
     ]
    },
    {
     "name": "stderr",
     "output_type": "stream",
     "text": [
      "C:\\Users\\harkn\\anaconda3\\Lib\\site-packages\\keras\\src\\layers\\convolutional\\base_conv.py:107: UserWarning: Do not pass an `input_shape`/`input_dim` argument to a layer. When using Sequential models, prefer using an `Input(shape)` object as the first layer in the model instead.\n",
      "  super().__init__(activity_regularizer=activity_regularizer, **kwargs)\n"
     ]
    },
    {
     "name": "stdout",
     "output_type": "stream",
     "text": [
      "Epoch 24: early stopping\n",
      "Restoring model weights from the end of the best epoch: 19.\n",
      "| \u001b[39m8        \u001b[39m | \u001b[39m0.7879   \u001b[39m | \u001b[39m0.7565   \u001b[39m | \u001b[39m34.47    \u001b[39m | \u001b[39m0.9895   \u001b[39m | \u001b[39m0.4092   \u001b[39m | \u001b[39m47.1     \u001b[39m | \u001b[39m2.959    \u001b[39m | \u001b[39m2.882    \u001b[39m | \u001b[39m2.221    \u001b[39m | \u001b[39m0.02222  \u001b[39m | \u001b[39m31.23    \u001b[39m | \u001b[39m0.2057   \u001b[39m | \u001b[39m1.829    \u001b[39m |\n"
     ]
    },
    {
     "name": "stderr",
     "output_type": "stream",
     "text": [
      "C:\\Users\\harkn\\anaconda3\\Lib\\site-packages\\keras\\src\\layers\\convolutional\\base_conv.py:107: UserWarning: Do not pass an `input_shape`/`input_dim` argument to a layer. When using Sequential models, prefer using an `Input(shape)` object as the first layer in the model instead.\n",
      "  super().__init__(activity_regularizer=activity_regularizer, **kwargs)\n"
     ]
    },
    {
     "name": "stdout",
     "output_type": "stream",
     "text": [
      "Epoch 6: early stopping\n",
      "Restoring model weights from the end of the best epoch: 1.\n",
      "| \u001b[39m9        \u001b[39m | \u001b[39m0.6476   \u001b[39m | \u001b[39m1.144    \u001b[39m | \u001b[39m36.78    \u001b[39m | \u001b[39m0.1472   \u001b[39m | \u001b[39m0.4644   \u001b[39m | \u001b[39m49.64    \u001b[39m | \u001b[39m2.109    \u001b[39m | \u001b[39m2.565    \u001b[39m | \u001b[39m2.509    \u001b[39m | \u001b[39m0.09184  \u001b[39m | \u001b[39m29.18    \u001b[39m | \u001b[39m0.9153   \u001b[39m | \u001b[39m0.4557   \u001b[39m |\n"
     ]
    },
    {
     "name": "stderr",
     "output_type": "stream",
     "text": [
      "C:\\Users\\harkn\\anaconda3\\Lib\\site-packages\\keras\\src\\layers\\convolutional\\base_conv.py:107: UserWarning: Do not pass an `input_shape`/`input_dim` argument to a layer. When using Sequential models, prefer using an `Input(shape)` object as the first layer in the model instead.\n",
      "  super().__init__(activity_regularizer=activity_regularizer, **kwargs)\n"
     ]
    },
    {
     "name": "stdout",
     "output_type": "stream",
     "text": [
      "Epoch 35: early stopping\n",
      "Restoring model weights from the end of the best epoch: 30.\n",
      "| \u001b[39m10       \u001b[39m | \u001b[39m0.8388   \u001b[39m | \u001b[39m0.5542   \u001b[39m | \u001b[39m37.54    \u001b[39m | \u001b[39m0.8684   \u001b[39m | \u001b[39m0.3297   \u001b[39m | \u001b[39m47.51    \u001b[39m | \u001b[39m1.798    \u001b[39m | \u001b[39m2.121    \u001b[39m | \u001b[39m2.454    \u001b[39m | \u001b[39m0.01278  \u001b[39m | \u001b[39m25.68    \u001b[39m | \u001b[39m0.9657   \u001b[39m | \u001b[39m1.423    \u001b[39m |\n"
     ]
    },
    {
     "name": "stderr",
     "output_type": "stream",
     "text": [
      "C:\\Users\\harkn\\anaconda3\\Lib\\site-packages\\keras\\src\\layers\\convolutional\\base_conv.py:107: UserWarning: Do not pass an `input_shape`/`input_dim` argument to a layer. When using Sequential models, prefer using an `Input(shape)` object as the first layer in the model instead.\n",
      "  super().__init__(activity_regularizer=activity_regularizer, **kwargs)\n"
     ]
    },
    {
     "name": "stdout",
     "output_type": "stream",
     "text": [
      "Restoring model weights from the end of the best epoch: 33.\n",
      "| \u001b[39m11       \u001b[39m | \u001b[39m0.7279   \u001b[39m | \u001b[39m1.079    \u001b[39m | \u001b[39m103.8    \u001b[39m | \u001b[39m0.4386   \u001b[39m | \u001b[39m0.3529   \u001b[39m | \u001b[39m33.46    \u001b[39m | \u001b[39m1.658    \u001b[39m | \u001b[39m1.889    \u001b[39m | \u001b[39m1.385    \u001b[39m | \u001b[39m0.06659  \u001b[39m | \u001b[39m92.94    \u001b[39m | \u001b[39m0.1148   \u001b[39m | \u001b[39m1.07     \u001b[39m |\n"
     ]
    },
    {
     "name": "stderr",
     "output_type": "stream",
     "text": [
      "C:\\Users\\harkn\\anaconda3\\Lib\\site-packages\\keras\\src\\layers\\convolutional\\base_conv.py:107: UserWarning: Do not pass an `input_shape`/`input_dim` argument to a layer. When using Sequential models, prefer using an `Input(shape)` object as the first layer in the model instead.\n",
      "  super().__init__(activity_regularizer=activity_regularizer, **kwargs)\n"
     ]
    },
    {
     "name": "stdout",
     "output_type": "stream",
     "text": [
      "Epoch 6: early stopping\n",
      "Restoring model weights from the end of the best epoch: 1.\n",
      "| \u001b[39m12       \u001b[39m | \u001b[39m0.6476   \u001b[39m | \u001b[39m1.998    \u001b[39m | \u001b[39m37.63    \u001b[39m | \u001b[39m0.127    \u001b[39m | \u001b[39m0.001061 \u001b[39m | \u001b[39m48.96    \u001b[39m | \u001b[39m1.149    \u001b[39m | \u001b[39m1.374    \u001b[39m | \u001b[39m2.26     \u001b[39m | \u001b[39m0.04057  \u001b[39m | \u001b[39m26.34    \u001b[39m | \u001b[39m0.1064   \u001b[39m | \u001b[39m1.63     \u001b[39m |\n"
     ]
    },
    {
     "name": "stderr",
     "output_type": "stream",
     "text": [
      "C:\\Users\\harkn\\anaconda3\\Lib\\site-packages\\keras\\src\\layers\\convolutional\\base_conv.py:107: UserWarning: Do not pass an `input_shape`/`input_dim` argument to a layer. When using Sequential models, prefer using an `Input(shape)` object as the first layer in the model instead.\n",
      "  super().__init__(activity_regularizer=activity_regularizer, **kwargs)\n"
     ]
    },
    {
     "name": "stdout",
     "output_type": "stream",
     "text": [
      "Epoch 6: early stopping\n",
      "Restoring model weights from the end of the best epoch: 1.\n",
      "| \u001b[39m13       \u001b[39m | \u001b[39m0.6476   \u001b[39m | \u001b[39m1.328    \u001b[39m | \u001b[39m37.83    \u001b[39m | \u001b[39m0.1128   \u001b[39m | \u001b[39m0.1052   \u001b[39m | \u001b[39m45.91    \u001b[39m | \u001b[39m2.408    \u001b[39m | \u001b[39m1.987    \u001b[39m | \u001b[39m1.374    \u001b[39m | \u001b[39m0.01302  \u001b[39m | \u001b[39m28.36    \u001b[39m | \u001b[39m0.2581   \u001b[39m | \u001b[39m1.412    \u001b[39m |\n"
     ]
    },
    {
     "name": "stderr",
     "output_type": "stream",
     "text": [
      "C:\\Users\\harkn\\anaconda3\\Lib\\site-packages\\keras\\src\\layers\\convolutional\\base_conv.py:107: UserWarning: Do not pass an `input_shape`/`input_dim` argument to a layer. When using Sequential models, prefer using an `Input(shape)` object as the first layer in the model instead.\n",
      "  super().__init__(activity_regularizer=activity_regularizer, **kwargs)\n"
     ]
    },
    {
     "name": "stdout",
     "output_type": "stream",
     "text": [
      "Epoch 6: early stopping\n",
      "Restoring model weights from the end of the best epoch: 1.\n",
      "| \u001b[39m14       \u001b[39m | \u001b[39m0.6476   \u001b[39m | \u001b[39m1.839    \u001b[39m | \u001b[39m34.92    \u001b[39m | \u001b[39m0.9143   \u001b[39m | \u001b[39m0.3003   \u001b[39m | \u001b[39m48.28    \u001b[39m | \u001b[39m2.634    \u001b[39m | \u001b[39m2.157    \u001b[39m | \u001b[39m1.569    \u001b[39m | \u001b[39m0.0867   \u001b[39m | \u001b[39m28.58    \u001b[39m | \u001b[39m0.002577 \u001b[39m | \u001b[39m0.4777   \u001b[39m |\n"
     ]
    },
    {
     "name": "stderr",
     "output_type": "stream",
     "text": [
      "C:\\Users\\harkn\\anaconda3\\Lib\\site-packages\\keras\\src\\layers\\convolutional\\base_conv.py:107: UserWarning: Do not pass an `input_shape`/`input_dim` argument to a layer. When using Sequential models, prefer using an `Input(shape)` object as the first layer in the model instead.\n",
      "  super().__init__(activity_regularizer=activity_regularizer, **kwargs)\n"
     ]
    },
    {
     "name": "stdout",
     "output_type": "stream",
     "text": [
      "Epoch 13: early stopping\n",
      "Restoring model weights from the end of the best epoch: 8.\n",
      "| \u001b[39m15       \u001b[39m | \u001b[39m0.6678   \u001b[39m | \u001b[39m1.996    \u001b[39m | \u001b[39m36.59    \u001b[39m | \u001b[39m0.1355   \u001b[39m | \u001b[39m0.1831   \u001b[39m | \u001b[39m46.17    \u001b[39m | \u001b[39m2.298    \u001b[39m | \u001b[39m1.897    \u001b[39m | \u001b[39m2.965    \u001b[39m | \u001b[39m0.05645  \u001b[39m | \u001b[39m28.61    \u001b[39m | \u001b[39m0.4423   \u001b[39m | \u001b[39m0.7726   \u001b[39m |\n",
      "=========================================================================================================================================================================\n",
      "Best Parameters: {'target': 0.8466775417327881, 'params': {'activation': 1.0934205586865593, 'batch_size': 36.70369901885903, 'dropout': 0.9695846277645586, 'dropout_rate': 0.3875664116805573, 'epochs': 47.579957662567566, 'kernel': 2.789654700855298, 'layers1': 2.19579995762217, 'layers2': 2.8437484700462337, 'learning_rate': 0.00976075770314003, 'neurons': 27.638457617723066, 'normalization': 0.045227288910538066, 'optimizer': 0.6506606615265287}}\n"
     ]
    }
   ],
   "source": [
    "from bayes_opt import BayesianOptimization\n",
    "\n",
    "# Define the objective function for optimization\n",
    "def bay_area(neurons, kernel, activation, optimizer, learning_rate, batch_size, epochs, layers1, layers2, normalization, dropout, dropout_rate):\n",
    "    return train_and_evaluate(\n",
    "        neurons=int(neurons),\n",
    "        kernel=int(kernel),\n",
    "        activation=int(activation),\n",
    "        optimizer=int(optimizer),\n",
    "        learning_rate=learning_rate,\n",
    "        batch_size=int(batch_size),\n",
    "        epochs=int(epochs),\n",
    "        layers1=int(layers1),\n",
    "        layers2=int(layers2),\n",
    "        normalization=normalization,\n",
    "        dropout=dropout,\n",
    "        dropout_rate=dropout_rate\n",
    "    )\n",
    "\n",
    "# Parameter bounds for Bayesian Optimization\n",
    "params = {\n",
    "    'neurons': (10, 100),\n",
    "    'kernel': (1, 3),\n",
    "    'activation': (0, 2),  # relu, sigmoid, tanh\n",
    "    'optimizer': (0, 2),   # Adam, SGD, RMSprop\n",
    "    'learning_rate': (0.001, 0.1),\n",
    "    'batch_size': (16, 128),\n",
    "    'epochs': (10, 50),\n",
    "    'layers1': (1, 3),\n",
    "    'layers2': (1, 3),\n",
    "    'normalization': (0, 1),\n",
    "    'dropout': (0, 1),\n",
    "    'dropout_rate': (0, 0.5)\n",
    "}\n",
    "\n",
    "# Run Bayesian Optimization\n",
    "optimizer = BayesianOptimization(f=bay_area, pbounds=params, random_state=42)\n",
    "optimizer.maximize(init_points=5, n_iter=10)\n",
    "\n",
    "print(\"Best Parameters:\", optimizer.max)\n"
   ]
  },
  {
   "cell_type": "code",
   "execution_count": 28,
   "id": "c7a2d767-a699-4aed-8dd0-127f24f1eff7",
   "metadata": {},
   "outputs": [
    {
     "name": "stdout",
     "output_type": "stream",
     "text": [
      "|   iter    |  target   | activa... | batch_... |  dropout  | dropou... |  epochs   |  kernel   |  layers1  |  layers2  | learni... |  neurons  | normal... | optimizer |\n",
      "-------------------------------------------------------------------------------------------------------------------------------------------------------------------------\n",
      "Restoring model weights from the end of the best epoch: 13.\n",
      "| \u001b[39m1        \u001b[39m | \u001b[39m0.7527   \u001b[39m | \u001b[39m0.7491   \u001b[39m | \u001b[39m122.5    \u001b[39m | \u001b[39m0.732    \u001b[39m | \u001b[39m0.2993   \u001b[39m | \u001b[39m16.24    \u001b[39m | \u001b[39m1.312    \u001b[39m | \u001b[39m1.116    \u001b[39m | \u001b[39m2.732    \u001b[39m | \u001b[39m0.06051  \u001b[39m | \u001b[39m73.73    \u001b[39m | \u001b[39m0.02058  \u001b[39m | \u001b[39m1.94     \u001b[39m |\n",
      "Epoch 18: early stopping\n",
      "Restoring model weights from the end of the best epoch: 13.\n",
      "| \u001b[35m2        \u001b[39m | \u001b[35m0.768    \u001b[39m | \u001b[35m1.665    \u001b[39m | \u001b[35m39.78    \u001b[39m | \u001b[35m0.1818   \u001b[39m | \u001b[35m0.0917   \u001b[39m | \u001b[35m22.17    \u001b[39m | \u001b[35m2.05     \u001b[39m | \u001b[35m1.864    \u001b[39m | \u001b[35m1.582    \u001b[39m | \u001b[35m0.06157  \u001b[39m | \u001b[35m22.55    \u001b[39m | \u001b[35m0.2921   \u001b[39m | \u001b[35m0.7327   \u001b[39m |\n",
      "Epoch 21: early stopping\n",
      "Restoring model weights from the end of the best epoch: 16.\n",
      "| \u001b[35m3        \u001b[39m | \u001b[35m0.79     \u001b[39m | \u001b[35m0.9121   \u001b[39m | \u001b[35m103.9    \u001b[39m | \u001b[35m0.1997   \u001b[39m | \u001b[35m0.2571   \u001b[39m | \u001b[35m33.7     \u001b[39m | \u001b[35m1.093    \u001b[39m | \u001b[35m2.215    \u001b[39m | \u001b[35m1.341    \u001b[39m | \u001b[35m0.00744  \u001b[39m | \u001b[35m95.4     \u001b[39m | \u001b[35m0.9656   \u001b[39m | \u001b[35m1.617    \u001b[39m |\n",
      "Restoring model weights from the end of the best epoch: 13.\n",
      "| \u001b[39m4        \u001b[39m | \u001b[39m0.7862   \u001b[39m | \u001b[39m0.6092   \u001b[39m | \u001b[39m26.94    \u001b[39m | \u001b[39m0.6842   \u001b[39m | \u001b[39m0.2201   \u001b[39m | \u001b[39m14.88    \u001b[39m | \u001b[39m1.99     \u001b[39m | \u001b[39m1.069    \u001b[39m | \u001b[39m2.819    \u001b[39m | \u001b[39m0.02662  \u001b[39m | \u001b[39m69.63    \u001b[39m | \u001b[39m0.3117   \u001b[39m | \u001b[39m1.04     \u001b[39m |\n",
      "Epoch 32: early stopping\n",
      "Restoring model weights from the end of the best epoch: 27.\n",
      "| \u001b[35m5        \u001b[39m | \u001b[35m0.8845   \u001b[39m | \u001b[35m1.093    \u001b[39m | \u001b[35m36.7     \u001b[39m | \u001b[35m0.9696   \u001b[39m | \u001b[35m0.3876   \u001b[39m | \u001b[35m47.58    \u001b[39m | \u001b[35m2.79     \u001b[39m | \u001b[35m2.196    \u001b[39m | \u001b[35m2.844    \u001b[39m | \u001b[35m0.009761 \u001b[39m | \u001b[35m27.64    \u001b[39m | \u001b[35m0.04523  \u001b[39m | \u001b[35m0.6507   \u001b[39m |\n"
     ]
    },
    {
     "name": "stderr",
     "output_type": "stream",
     "text": [
      "C:\\Users\\harkn\\anaconda3\\Lib\\site-packages\\keras\\src\\layers\\convolutional\\base_conv.py:107: UserWarning: Do not pass an `input_shape`/`input_dim` argument to a layer. When using Sequential models, prefer using an `Input(shape)` object as the first layer in the model instead.\n",
      "  super().__init__(activity_regularizer=activity_regularizer, **kwargs)\n"
     ]
    },
    {
     "name": "stdout",
     "output_type": "stream",
     "text": [
      "Epoch 26: early stopping\n",
      "Restoring model weights from the end of the best epoch: 21.\n",
      "| \u001b[39m6        \u001b[39m | \u001b[39m0.8162   \u001b[39m | \u001b[39m1.446    \u001b[39m | \u001b[39m36.57    \u001b[39m | \u001b[39m0.9054   \u001b[39m | \u001b[39m0.371    \u001b[39m | \u001b[39m47.31    \u001b[39m | \u001b[39m2.758    \u001b[39m | \u001b[39m2.099    \u001b[39m | \u001b[39m1.304    \u001b[39m | \u001b[39m0.02292  \u001b[39m | \u001b[39m28.16    \u001b[39m | \u001b[39m0.2206   \u001b[39m | \u001b[39m0.9528   \u001b[39m |\n"
     ]
    },
    {
     "name": "stderr",
     "output_type": "stream",
     "text": [
      "C:\\Users\\harkn\\anaconda3\\Lib\\site-packages\\keras\\src\\layers\\convolutional\\base_conv.py:107: UserWarning: Do not pass an `input_shape`/`input_dim` argument to a layer. When using Sequential models, prefer using an `Input(shape)` object as the first layer in the model instead.\n",
      "  super().__init__(activity_regularizer=activity_regularizer, **kwargs)\n"
     ]
    },
    {
     "name": "stdout",
     "output_type": "stream",
     "text": [
      "Epoch 6: early stopping\n",
      "Restoring model weights from the end of the best epoch: 1.\n",
      "| \u001b[39m7        \u001b[39m | \u001b[39m0.6476   \u001b[39m | \u001b[39m0.6562   \u001b[39m | \u001b[39m36.56    \u001b[39m | \u001b[39m0.3483   \u001b[39m | \u001b[39m0.1981   \u001b[39m | \u001b[39m47.58    \u001b[39m | \u001b[39m2.241    \u001b[39m | \u001b[39m2.705    \u001b[39m | \u001b[39m1.738    \u001b[39m | \u001b[39m0.09888  \u001b[39m | \u001b[39m29.61    \u001b[39m | \u001b[39m0.3678   \u001b[39m | \u001b[39m0.5625   \u001b[39m |\n"
     ]
    },
    {
     "name": "stderr",
     "output_type": "stream",
     "text": [
      "C:\\Users\\harkn\\anaconda3\\Lib\\site-packages\\keras\\src\\layers\\convolutional\\base_conv.py:107: UserWarning: Do not pass an `input_shape`/`input_dim` argument to a layer. When using Sequential models, prefer using an `Input(shape)` object as the first layer in the model instead.\n",
      "  super().__init__(activity_regularizer=activity_regularizer, **kwargs)\n"
     ]
    },
    {
     "name": "stdout",
     "output_type": "stream",
     "text": [
      "Epoch 8: early stopping\n",
      "Restoring model weights from the end of the best epoch: 3.\n",
      "| \u001b[39m8        \u001b[39m | \u001b[39m0.729    \u001b[39m | \u001b[39m0.8287   \u001b[39m | \u001b[39m28.29    \u001b[39m | \u001b[39m0.386    \u001b[39m | \u001b[39m0.05462  \u001b[39m | \u001b[39m15.94    \u001b[39m | \u001b[39m2.633    \u001b[39m | \u001b[39m2.232    \u001b[39m | \u001b[39m2.912    \u001b[39m | \u001b[39m0.03381  \u001b[39m | \u001b[39m70.41    \u001b[39m | \u001b[39m0.6458   \u001b[39m | \u001b[39m0.7157   \u001b[39m |\n"
     ]
    },
    {
     "name": "stderr",
     "output_type": "stream",
     "text": [
      "C:\\Users\\harkn\\anaconda3\\Lib\\site-packages\\keras\\src\\layers\\convolutional\\base_conv.py:107: UserWarning: Do not pass an `input_shape`/`input_dim` argument to a layer. When using Sequential models, prefer using an `Input(shape)` object as the first layer in the model instead.\n",
      "  super().__init__(activity_regularizer=activity_regularizer, **kwargs)\n"
     ]
    },
    {
     "name": "stdout",
     "output_type": "stream",
     "text": [
      "Epoch 6: early stopping\n",
      "Restoring model weights from the end of the best epoch: 1.\n",
      "| \u001b[39m9        \u001b[39m | \u001b[39m0.6476   \u001b[39m | \u001b[39m1.888    \u001b[39m | \u001b[39m102.4    \u001b[39m | \u001b[39m0.3859   \u001b[39m | \u001b[39m0.2231   \u001b[39m | \u001b[39m34.64    \u001b[39m | \u001b[39m1.664    \u001b[39m | \u001b[39m2.842    \u001b[39m | \u001b[39m1.839    \u001b[39m | \u001b[39m0.01314  \u001b[39m | \u001b[39m95.36    \u001b[39m | \u001b[39m0.2666   \u001b[39m | \u001b[39m1.774    \u001b[39m |\n"
     ]
    },
    {
     "name": "stderr",
     "output_type": "stream",
     "text": [
      "C:\\Users\\harkn\\anaconda3\\Lib\\site-packages\\keras\\src\\layers\\convolutional\\base_conv.py:107: UserWarning: Do not pass an `input_shape`/`input_dim` argument to a layer. When using Sequential models, prefer using an `Input(shape)` object as the first layer in the model instead.\n",
      "  super().__init__(activity_regularizer=activity_regularizer, **kwargs)\n"
     ]
    },
    {
     "name": "stdout",
     "output_type": "stream",
     "text": [
      "Epoch 31: early stopping\n",
      "Restoring model weights from the end of the best epoch: 26.\n",
      "| \u001b[39m10       \u001b[39m | \u001b[39m0.829    \u001b[39m | \u001b[39m0.5542   \u001b[39m | \u001b[39m37.54    \u001b[39m | \u001b[39m0.8684   \u001b[39m | \u001b[39m0.3297   \u001b[39m | \u001b[39m47.51    \u001b[39m | \u001b[39m1.798    \u001b[39m | \u001b[39m2.121    \u001b[39m | \u001b[39m2.454    \u001b[39m | \u001b[39m0.01278  \u001b[39m | \u001b[39m25.68    \u001b[39m | \u001b[39m0.9657   \u001b[39m | \u001b[39m1.423    \u001b[39m |\n"
     ]
    },
    {
     "name": "stderr",
     "output_type": "stream",
     "text": [
      "C:\\Users\\harkn\\anaconda3\\Lib\\site-packages\\keras\\src\\layers\\convolutional\\base_conv.py:107: UserWarning: Do not pass an `input_shape`/`input_dim` argument to a layer. When using Sequential models, prefer using an `Input(shape)` object as the first layer in the model instead.\n",
      "  super().__init__(activity_regularizer=activity_regularizer, **kwargs)\n"
     ]
    },
    {
     "name": "stdout",
     "output_type": "stream",
     "text": [
      "Epoch 6: early stopping\n",
      "Restoring model weights from the end of the best epoch: 1.\n",
      "| \u001b[39m11       \u001b[39m | \u001b[39m0.6476   \u001b[39m | \u001b[39m1.544    \u001b[39m | \u001b[39m25.42    \u001b[39m | \u001b[39m0.8969   \u001b[39m | \u001b[39m0.2958   \u001b[39m | \u001b[39m14.92    \u001b[39m | \u001b[39m1.539    \u001b[39m | \u001b[39m1.174    \u001b[39m | \u001b[39m2.625    \u001b[39m | \u001b[39m0.02312  \u001b[39m | \u001b[39m68.89    \u001b[39m | \u001b[39m0.1251   \u001b[39m | \u001b[39m1.017    \u001b[39m |\n"
     ]
    },
    {
     "name": "stderr",
     "output_type": "stream",
     "text": [
      "C:\\Users\\harkn\\anaconda3\\Lib\\site-packages\\keras\\src\\layers\\convolutional\\base_conv.py:107: UserWarning: Do not pass an `input_shape`/`input_dim` argument to a layer. When using Sequential models, prefer using an `Input(shape)` object as the first layer in the model instead.\n",
      "  super().__init__(activity_regularizer=activity_regularizer, **kwargs)\n"
     ]
    },
    {
     "name": "stdout",
     "output_type": "stream",
     "text": [
      "Epoch 6: early stopping\n",
      "Restoring model weights from the end of the best epoch: 1.\n",
      "| \u001b[39m12       \u001b[39m | \u001b[39m0.6476   \u001b[39m | \u001b[39m1.265    \u001b[39m | \u001b[39m39.46    \u001b[39m | \u001b[39m0.4953   \u001b[39m | \u001b[39m0.3326   \u001b[39m | \u001b[39m22.11    \u001b[39m | \u001b[39m1.63     \u001b[39m | \u001b[39m1.578    \u001b[39m | \u001b[39m1.206    \u001b[39m | \u001b[39m0.03073  \u001b[39m | \u001b[39m22.55    \u001b[39m | \u001b[39m0.009652 \u001b[39m | \u001b[39m1.925    \u001b[39m |\n"
     ]
    },
    {
     "name": "stderr",
     "output_type": "stream",
     "text": [
      "C:\\Users\\harkn\\anaconda3\\Lib\\site-packages\\keras\\src\\layers\\convolutional\\base_conv.py:107: UserWarning: Do not pass an `input_shape`/`input_dim` argument to a layer. When using Sequential models, prefer using an `Input(shape)` object as the first layer in the model instead.\n",
      "  super().__init__(activity_regularizer=activity_regularizer, **kwargs)\n"
     ]
    },
    {
     "name": "stdout",
     "output_type": "stream",
     "text": [
      "Epoch 6: early stopping\n",
      "Restoring model weights from the end of the best epoch: 1.\n",
      "| \u001b[39m13       \u001b[39m | \u001b[39m0.6476   \u001b[39m | \u001b[39m1.364    \u001b[39m | \u001b[39m27.48    \u001b[39m | \u001b[39m0.3141   \u001b[39m | \u001b[39m0.3152   \u001b[39m | \u001b[39m14.27    \u001b[39m | \u001b[39m1.874    \u001b[39m | \u001b[39m1.546    \u001b[39m | \u001b[39m2.516    \u001b[39m | \u001b[39m0.03246  \u001b[39m | \u001b[39m70.18    \u001b[39m | \u001b[39m0.4137   \u001b[39m | \u001b[39m0.1557   \u001b[39m |\n"
     ]
    },
    {
     "name": "stderr",
     "output_type": "stream",
     "text": [
      "C:\\Users\\harkn\\anaconda3\\Lib\\site-packages\\keras\\src\\layers\\convolutional\\base_conv.py:107: UserWarning: Do not pass an `input_shape`/`input_dim` argument to a layer. When using Sequential models, prefer using an `Input(shape)` object as the first layer in the model instead.\n",
      "  super().__init__(activity_regularizer=activity_regularizer, **kwargs)\n"
     ]
    },
    {
     "name": "stdout",
     "output_type": "stream",
     "text": [
      "Epoch 18: early stopping\n",
      "Restoring model weights from the end of the best epoch: 13.\n",
      "| \u001b[39m14       \u001b[39m | \u001b[39m0.7666   \u001b[39m | \u001b[39m1.206    \u001b[39m | \u001b[39m39.88    \u001b[39m | \u001b[39m0.09083  \u001b[39m | \u001b[39m0.2001   \u001b[39m | \u001b[39m28.24    \u001b[39m | \u001b[39m2.854    \u001b[39m | \u001b[39m2.514    \u001b[39m | \u001b[39m1.396    \u001b[39m | \u001b[39m0.03812  \u001b[39m | \u001b[39m87.14    \u001b[39m | \u001b[39m0.9164   \u001b[39m | \u001b[39m1.207    \u001b[39m |\n"
     ]
    },
    {
     "name": "stderr",
     "output_type": "stream",
     "text": [
      "C:\\Users\\harkn\\anaconda3\\Lib\\site-packages\\keras\\src\\layers\\convolutional\\base_conv.py:107: UserWarning: Do not pass an `input_shape`/`input_dim` argument to a layer. When using Sequential models, prefer using an `Input(shape)` object as the first layer in the model instead.\n",
      "  super().__init__(activity_regularizer=activity_regularizer, **kwargs)\n"
     ]
    },
    {
     "name": "stdout",
     "output_type": "stream",
     "text": [
      "Epoch 10: early stopping\n",
      "Restoring model weights from the end of the best epoch: 5.\n",
      "| \u001b[39m15       \u001b[39m | \u001b[39m0.7263   \u001b[39m | \u001b[39m0.5092   \u001b[39m | \u001b[39m125.2    \u001b[39m | \u001b[39m0.3827   \u001b[39m | \u001b[39m0.4947   \u001b[39m | \u001b[39m33.8     \u001b[39m | \u001b[39m2.34     \u001b[39m | \u001b[39m2.975    \u001b[39m | \u001b[39m2.22     \u001b[39m | \u001b[39m0.0564   \u001b[39m | \u001b[39m99.72    \u001b[39m | \u001b[39m0.8315   \u001b[39m | \u001b[39m0.06602  \u001b[39m |\n",
      "=========================================================================================================================================================================\n"
     ]
    }
   ],
   "source": [
    "# Define the Bayesian Optimization process\n",
    "nn_opt = BayesianOptimization(f=bay_area, pbounds=params, random_state=42)\n",
    "\n",
    "# Run the optimization\n",
    "nn_opt.maximize(init_points=5, n_iter=10)"
   ]
  },
  {
   "cell_type": "code",
   "execution_count": 29,
   "id": "28557c2f-de17-406f-9e94-f1b2c30ec286",
   "metadata": {},
   "outputs": [
    {
     "data": {
      "text/plain": [
       "{'activation': 'sigmoid',\n",
       " 'batch_size': 37,\n",
       " 'dropout': 0.9695846277645586,\n",
       " 'dropout_rate': 0.3875664116805573,\n",
       " 'epochs': 48,\n",
       " 'kernel': 2.789654700855298,\n",
       " 'layers1': 2,\n",
       " 'layers2': 3,\n",
       " 'learning_rate': 0.00976075770314003,\n",
       " 'neurons': 28,\n",
       " 'normalization': 0.045227288910538066,\n",
       " 'optimizer': <keras.src.optimizers.sgd.SGD at 0x2aa4acd0cd0>}"
      ]
     },
     "execution_count": 29,
     "metadata": {},
     "output_type": "execute_result"
    }
   ],
   "source": [
    "optimum = nn_opt.max['params']\n",
    "learning_rate = optimum['learning_rate']\n",
    "\n",
    "activationL = ['relu', 'sigmoid', 'softplus', 'softsign', 'tanh', 'selu', 'elu', 'exponential', LeakyReLU, 'relu']\n",
    "optimum['activation'] = activationL[round(optimum['activation'])]\n",
    "\n",
    "optimum['batch_size'] = round(optimum['batch_size'])\n",
    "optimum['epochs'] = round(optimum['epochs'])\n",
    "optimum['layers1'] = round(optimum['layers1'])\n",
    "optimum['layers2'] = round(optimum['layers2'])\n",
    "optimum['neurons'] = round(optimum['neurons'])\n",
    "\n",
    "optimizerL = ['Adam', 'SGD', 'RMSprop', 'Adadelta', 'Adagrad', 'Adamax', 'Nadam', 'Ftrl', 'Adam']\n",
    "optimizerD = {\n",
    "    'Adam': Adam(learning_rate=learning_rate),\n",
    "    'SGD': SGD(learning_rate=learning_rate),\n",
    "    'RMSprop': RMSprop(learning_rate=learning_rate),\n",
    "    'Adadelta': Adadelta(learning_rate=learning_rate),\n",
    "    'Adagrad': Adagrad(learning_rate=learning_rate),\n",
    "    'Adamax': Adamax(learning_rate=learning_rate),\n",
    "    'Nadam': Nadam(learning_rate=learning_rate),\n",
    "    'Ftrl': Ftrl(learning_rate=learning_rate)\n",
    "}\n",
    "optimum['optimizer'] = optimizerD[optimizerL[round(optimum['optimizer'])]]\n",
    "optimum"
   ]
  },
  {
   "cell_type": "code",
   "execution_count": 30,
   "id": "649aff30-33e8-4f3c-9c24-5d69b75ef462",
   "metadata": {},
   "outputs": [],
   "source": [
    "# Set the model with optimized hyperparameters\n",
    "\n",
    "epochs = 47\n",
    "batch_size = 460\n",
    "\n",
    "timesteps = len(X_train[0])\n",
    "input_dim = len(X_train[0][0])\n",
    "n_classes = 15\n",
    "\n",
    "layers1 = 1\n",
    "layers2 = 2\n",
    "activation = 'softsign'\n",
    "kernel = int(round(1.9444298503238986))  # Rounded kernel size for Conv1D\n",
    "neurons = 61\n",
    "normalization = 0.770967179954561\n",
    "dropout = 0.7296061783380641\n",
    "dropout_rate = 0.19126724140656393\n",
    "optimizer = Adadelta(learning_rate=0.7631771981307285)  # Instantiate RMSprop with learning rate\n",
    "\n",
    "model = Sequential()\n",
    "model.add(Conv1D(neurons, kernel_size=kernel, activation=activation, input_shape=(timesteps, input_dim)))\n",
    "\n",
    "if normalization > 0.5:\n",
    "    model.add(BatchNormalization())\n",
    "\n",
    "for i in range(layers1):\n",
    "    model.add(Dense(neurons, activation=activation))\n",
    "\n",
    "if dropout > 0.5:\n",
    "    model.add(Dropout(dropout_rate))\n",
    "\n",
    "for i in range(layers2):\n",
    "    model.add(Dense(neurons, activation=activation))\n",
    "\n",
    "model.add(MaxPooling1D())\n",
    "model.add(Flatten())\n",
    "model.add(Dense(n_classes, activation='softmax')) \n",
    "\n",
    "model.compile(loss='sparse_categorical_crossentropy', optimizer=optimizer, metrics=['accuracy'])"
   ]
  },
  {
   "cell_type": "code",
   "execution_count": 31,
   "id": "33f0a0c8-4f78-4927-a9e0-41c6af653d74",
   "metadata": {},
   "outputs": [
    {
     "data": {
      "text/html": [
       "<pre style=\"white-space:pre;overflow-x:auto;line-height:normal;font-family:Menlo,'DejaVu Sans Mono',consolas,'Courier New',monospace\"><span style=\"font-weight: bold\">Model: \"sequential_30\"</span>\n",
       "</pre>\n"
      ],
      "text/plain": [
       "\u001b[1mModel: \"sequential_30\"\u001b[0m\n"
      ]
     },
     "metadata": {},
     "output_type": "display_data"
    },
    {
     "data": {
      "text/html": [
       "<pre style=\"white-space:pre;overflow-x:auto;line-height:normal;font-family:Menlo,'DejaVu Sans Mono',consolas,'Courier New',monospace\">┏━━━━━━━━━━━━━━━━━━━━━━━━━━━━━━━━━┳━━━━━━━━━━━━━━━━━━━━━━━━┳━━━━━━━━━━━━━━━┓\n",
       "┃<span style=\"font-weight: bold\"> Layer (type)                    </span>┃<span style=\"font-weight: bold\"> Output Shape           </span>┃<span style=\"font-weight: bold\">       Param # </span>┃\n",
       "┡━━━━━━━━━━━━━━━━━━━━━━━━━━━━━━━━━╇━━━━━━━━━━━━━━━━━━━━━━━━╇━━━━━━━━━━━━━━━┩\n",
       "│ conv1d_30 (<span style=\"color: #0087ff; text-decoration-color: #0087ff\">Conv1D</span>)              │ (<span style=\"color: #00d7ff; text-decoration-color: #00d7ff\">None</span>, <span style=\"color: #00af00; text-decoration-color: #00af00\">14</span>, <span style=\"color: #00af00; text-decoration-color: #00af00\">61</span>)         │         <span style=\"color: #00af00; text-decoration-color: #00af00\">1,159</span> │\n",
       "├─────────────────────────────────┼────────────────────────┼───────────────┤\n",
       "│ batch_normalization_8           │ (<span style=\"color: #00d7ff; text-decoration-color: #00d7ff\">None</span>, <span style=\"color: #00af00; text-decoration-color: #00af00\">14</span>, <span style=\"color: #00af00; text-decoration-color: #00af00\">61</span>)         │           <span style=\"color: #00af00; text-decoration-color: #00af00\">244</span> │\n",
       "│ (<span style=\"color: #0087ff; text-decoration-color: #0087ff\">BatchNormalization</span>)            │                        │               │\n",
       "├─────────────────────────────────┼────────────────────────┼───────────────┤\n",
       "│ dense_123 (<span style=\"color: #0087ff; text-decoration-color: #0087ff\">Dense</span>)               │ (<span style=\"color: #00d7ff; text-decoration-color: #00d7ff\">None</span>, <span style=\"color: #00af00; text-decoration-color: #00af00\">14</span>, <span style=\"color: #00af00; text-decoration-color: #00af00\">61</span>)         │         <span style=\"color: #00af00; text-decoration-color: #00af00\">3,782</span> │\n",
       "├─────────────────────────────────┼────────────────────────┼───────────────┤\n",
       "│ dropout_14 (<span style=\"color: #0087ff; text-decoration-color: #0087ff\">Dropout</span>)            │ (<span style=\"color: #00d7ff; text-decoration-color: #00d7ff\">None</span>, <span style=\"color: #00af00; text-decoration-color: #00af00\">14</span>, <span style=\"color: #00af00; text-decoration-color: #00af00\">61</span>)         │             <span style=\"color: #00af00; text-decoration-color: #00af00\">0</span> │\n",
       "├─────────────────────────────────┼────────────────────────┼───────────────┤\n",
       "│ dense_124 (<span style=\"color: #0087ff; text-decoration-color: #0087ff\">Dense</span>)               │ (<span style=\"color: #00d7ff; text-decoration-color: #00d7ff\">None</span>, <span style=\"color: #00af00; text-decoration-color: #00af00\">14</span>, <span style=\"color: #00af00; text-decoration-color: #00af00\">61</span>)         │         <span style=\"color: #00af00; text-decoration-color: #00af00\">3,782</span> │\n",
       "├─────────────────────────────────┼────────────────────────┼───────────────┤\n",
       "│ dense_125 (<span style=\"color: #0087ff; text-decoration-color: #0087ff\">Dense</span>)               │ (<span style=\"color: #00d7ff; text-decoration-color: #00d7ff\">None</span>, <span style=\"color: #00af00; text-decoration-color: #00af00\">14</span>, <span style=\"color: #00af00; text-decoration-color: #00af00\">61</span>)         │         <span style=\"color: #00af00; text-decoration-color: #00af00\">3,782</span> │\n",
       "├─────────────────────────────────┼────────────────────────┼───────────────┤\n",
       "│ max_pooling1d_30 (<span style=\"color: #0087ff; text-decoration-color: #0087ff\">MaxPooling1D</span>) │ (<span style=\"color: #00d7ff; text-decoration-color: #00d7ff\">None</span>, <span style=\"color: #00af00; text-decoration-color: #00af00\">7</span>, <span style=\"color: #00af00; text-decoration-color: #00af00\">61</span>)          │             <span style=\"color: #00af00; text-decoration-color: #00af00\">0</span> │\n",
       "├─────────────────────────────────┼────────────────────────┼───────────────┤\n",
       "│ flatten_30 (<span style=\"color: #0087ff; text-decoration-color: #0087ff\">Flatten</span>)            │ (<span style=\"color: #00d7ff; text-decoration-color: #00d7ff\">None</span>, <span style=\"color: #00af00; text-decoration-color: #00af00\">427</span>)            │             <span style=\"color: #00af00; text-decoration-color: #00af00\">0</span> │\n",
       "├─────────────────────────────────┼────────────────────────┼───────────────┤\n",
       "│ dense_126 (<span style=\"color: #0087ff; text-decoration-color: #0087ff\">Dense</span>)               │ (<span style=\"color: #00d7ff; text-decoration-color: #00d7ff\">None</span>, <span style=\"color: #00af00; text-decoration-color: #00af00\">15</span>)             │         <span style=\"color: #00af00; text-decoration-color: #00af00\">6,420</span> │\n",
       "└─────────────────────────────────┴────────────────────────┴───────────────┘\n",
       "</pre>\n"
      ],
      "text/plain": [
       "┏━━━━━━━━━━━━━━━━━━━━━━━━━━━━━━━━━┳━━━━━━━━━━━━━━━━━━━━━━━━┳━━━━━━━━━━━━━━━┓\n",
       "┃\u001b[1m \u001b[0m\u001b[1mLayer (type)                   \u001b[0m\u001b[1m \u001b[0m┃\u001b[1m \u001b[0m\u001b[1mOutput Shape          \u001b[0m\u001b[1m \u001b[0m┃\u001b[1m \u001b[0m\u001b[1m      Param #\u001b[0m\u001b[1m \u001b[0m┃\n",
       "┡━━━━━━━━━━━━━━━━━━━━━━━━━━━━━━━━━╇━━━━━━━━━━━━━━━━━━━━━━━━╇━━━━━━━━━━━━━━━┩\n",
       "│ conv1d_30 (\u001b[38;5;33mConv1D\u001b[0m)              │ (\u001b[38;5;45mNone\u001b[0m, \u001b[38;5;34m14\u001b[0m, \u001b[38;5;34m61\u001b[0m)         │         \u001b[38;5;34m1,159\u001b[0m │\n",
       "├─────────────────────────────────┼────────────────────────┼───────────────┤\n",
       "│ batch_normalization_8           │ (\u001b[38;5;45mNone\u001b[0m, \u001b[38;5;34m14\u001b[0m, \u001b[38;5;34m61\u001b[0m)         │           \u001b[38;5;34m244\u001b[0m │\n",
       "│ (\u001b[38;5;33mBatchNormalization\u001b[0m)            │                        │               │\n",
       "├─────────────────────────────────┼────────────────────────┼───────────────┤\n",
       "│ dense_123 (\u001b[38;5;33mDense\u001b[0m)               │ (\u001b[38;5;45mNone\u001b[0m, \u001b[38;5;34m14\u001b[0m, \u001b[38;5;34m61\u001b[0m)         │         \u001b[38;5;34m3,782\u001b[0m │\n",
       "├─────────────────────────────────┼────────────────────────┼───────────────┤\n",
       "│ dropout_14 (\u001b[38;5;33mDropout\u001b[0m)            │ (\u001b[38;5;45mNone\u001b[0m, \u001b[38;5;34m14\u001b[0m, \u001b[38;5;34m61\u001b[0m)         │             \u001b[38;5;34m0\u001b[0m │\n",
       "├─────────────────────────────────┼────────────────────────┼───────────────┤\n",
       "│ dense_124 (\u001b[38;5;33mDense\u001b[0m)               │ (\u001b[38;5;45mNone\u001b[0m, \u001b[38;5;34m14\u001b[0m, \u001b[38;5;34m61\u001b[0m)         │         \u001b[38;5;34m3,782\u001b[0m │\n",
       "├─────────────────────────────────┼────────────────────────┼───────────────┤\n",
       "│ dense_125 (\u001b[38;5;33mDense\u001b[0m)               │ (\u001b[38;5;45mNone\u001b[0m, \u001b[38;5;34m14\u001b[0m, \u001b[38;5;34m61\u001b[0m)         │         \u001b[38;5;34m3,782\u001b[0m │\n",
       "├─────────────────────────────────┼────────────────────────┼───────────────┤\n",
       "│ max_pooling1d_30 (\u001b[38;5;33mMaxPooling1D\u001b[0m) │ (\u001b[38;5;45mNone\u001b[0m, \u001b[38;5;34m7\u001b[0m, \u001b[38;5;34m61\u001b[0m)          │             \u001b[38;5;34m0\u001b[0m │\n",
       "├─────────────────────────────────┼────────────────────────┼───────────────┤\n",
       "│ flatten_30 (\u001b[38;5;33mFlatten\u001b[0m)            │ (\u001b[38;5;45mNone\u001b[0m, \u001b[38;5;34m427\u001b[0m)            │             \u001b[38;5;34m0\u001b[0m │\n",
       "├─────────────────────────────────┼────────────────────────┼───────────────┤\n",
       "│ dense_126 (\u001b[38;5;33mDense\u001b[0m)               │ (\u001b[38;5;45mNone\u001b[0m, \u001b[38;5;34m15\u001b[0m)             │         \u001b[38;5;34m6,420\u001b[0m │\n",
       "└─────────────────────────────────┴────────────────────────┴───────────────┘\n"
      ]
     },
     "metadata": {},
     "output_type": "display_data"
    },
    {
     "data": {
      "text/html": [
       "<pre style=\"white-space:pre;overflow-x:auto;line-height:normal;font-family:Menlo,'DejaVu Sans Mono',consolas,'Courier New',monospace\"><span style=\"font-weight: bold\"> Total params: </span><span style=\"color: #00af00; text-decoration-color: #00af00\">19,169</span> (74.88 KB)\n",
       "</pre>\n"
      ],
      "text/plain": [
       "\u001b[1m Total params: \u001b[0m\u001b[38;5;34m19,169\u001b[0m (74.88 KB)\n"
      ]
     },
     "metadata": {},
     "output_type": "display_data"
    },
    {
     "data": {
      "text/html": [
       "<pre style=\"white-space:pre;overflow-x:auto;line-height:normal;font-family:Menlo,'DejaVu Sans Mono',consolas,'Courier New',monospace\"><span style=\"font-weight: bold\"> Trainable params: </span><span style=\"color: #00af00; text-decoration-color: #00af00\">19,047</span> (74.40 KB)\n",
       "</pre>\n"
      ],
      "text/plain": [
       "\u001b[1m Trainable params: \u001b[0m\u001b[38;5;34m19,047\u001b[0m (74.40 KB)\n"
      ]
     },
     "metadata": {},
     "output_type": "display_data"
    },
    {
     "data": {
      "text/html": [
       "<pre style=\"white-space:pre;overflow-x:auto;line-height:normal;font-family:Menlo,'DejaVu Sans Mono',consolas,'Courier New',monospace\"><span style=\"font-weight: bold\"> Non-trainable params: </span><span style=\"color: #00af00; text-decoration-color: #00af00\">122</span> (488.00 B)\n",
       "</pre>\n"
      ],
      "text/plain": [
       "\u001b[1m Non-trainable params: \u001b[0m\u001b[38;5;34m122\u001b[0m (488.00 B)\n"
      ]
     },
     "metadata": {},
     "output_type": "display_data"
    }
   ],
   "source": [
    "model.summary()"
   ]
  },
  {
   "cell_type": "code",
   "execution_count": 32,
   "id": "f24a4b00-7296-4fd7-9ad7-ca7d19d09535",
   "metadata": {},
   "outputs": [],
   "source": [
    "# Put the y_test set back into a one-hot configuration\n",
    "\n",
    "y_train_one_hot = to_categorical(y_train, num_classes=15)"
   ]
  },
  {
   "cell_type": "code",
   "execution_count": 33,
   "id": "f97c4158-8da2-41dd-bab6-438be3e68fe5",
   "metadata": {},
   "outputs": [
    {
     "name": "stdout",
     "output_type": "stream",
     "text": [
      "X_train shape: (18360, 15, 9)\n",
      "y_train_one_hot shape: (18360, 15)\n"
     ]
    }
   ],
   "source": [
    "# Check shapes\n",
    "\n",
    "print(f'X_train shape: {X_train.shape}')\n",
    "print(f'y_train_one_hot shape: {y_train_one_hot.shape}')"
   ]
  },
  {
   "cell_type": "code",
   "execution_count": 34,
   "id": "80861282-5057-40b5-b274-3e8d3dfe350a",
   "metadata": {},
   "outputs": [],
   "source": [
    "# Compile the model with categorical_crossentropy\n",
    "\n",
    "model.compile(loss='categorical_crossentropy', optimizer=optimizer, metrics=['accuracy'])"
   ]
  },
  {
   "cell_type": "code",
   "execution_count": 35,
   "id": "81c47c10-becd-48d1-b9d8-44f31c5d41d5",
   "metadata": {},
   "outputs": [
    {
     "name": "stdout",
     "output_type": "stream",
     "text": [
      "Epoch 1/47\n",
      "40/40 - 14s - 359ms/step - accuracy: 0.6030 - loss: 1.3633\n",
      "Epoch 2/47\n",
      "40/40 - 4s - 90ms/step - accuracy: 0.6904 - loss: 0.9027\n",
      "Epoch 3/47\n",
      "40/40 - 3s - 72ms/step - accuracy: 0.7272 - loss: 0.8071\n",
      "Epoch 4/47\n",
      "40/40 - 3s - 72ms/step - accuracy: 0.7492 - loss: 0.7454\n",
      "Epoch 5/47\n",
      "40/40 - 3s - 78ms/step - accuracy: 0.7652 - loss: 0.6965\n",
      "Epoch 6/47\n",
      "40/40 - 3s - 83ms/step - accuracy: 0.7771 - loss: 0.6588\n",
      "Epoch 7/47\n",
      "40/40 - 3s - 70ms/step - accuracy: 0.7875 - loss: 0.6206\n",
      "Epoch 8/47\n",
      "40/40 - 2s - 54ms/step - accuracy: 0.8004 - loss: 0.5846\n",
      "Epoch 9/47\n",
      "40/40 - 3s - 68ms/step - accuracy: 0.8097 - loss: 0.5571\n",
      "Epoch 10/47\n",
      "40/40 - 3s - 74ms/step - accuracy: 0.8192 - loss: 0.5314\n",
      "Epoch 11/47\n",
      "40/40 - 3s - 64ms/step - accuracy: 0.8226 - loss: 0.5130\n",
      "Epoch 12/47\n",
      "40/40 - 3s - 81ms/step - accuracy: 0.8304 - loss: 0.4924\n",
      "Epoch 13/47\n",
      "40/40 - 3s - 67ms/step - accuracy: 0.8354 - loss: 0.4742\n",
      "Epoch 14/47\n",
      "40/40 - 3s - 75ms/step - accuracy: 0.8415 - loss: 0.4567\n",
      "Epoch 15/47\n",
      "40/40 - 3s - 63ms/step - accuracy: 0.8479 - loss: 0.4393\n",
      "Epoch 16/47\n",
      "40/40 - 3s - 73ms/step - accuracy: 0.8477 - loss: 0.4365\n",
      "Epoch 17/47\n",
      "40/40 - 4s - 106ms/step - accuracy: 0.8562 - loss: 0.4172\n",
      "Epoch 18/47\n",
      "40/40 - 4s - 98ms/step - accuracy: 0.8606 - loss: 0.4029\n",
      "Epoch 19/47\n",
      "40/40 - 1s - 31ms/step - accuracy: 0.8584 - loss: 0.4027\n",
      "Epoch 20/47\n",
      "40/40 - 3s - 63ms/step - accuracy: 0.8655 - loss: 0.3860\n",
      "Epoch 21/47\n",
      "40/40 - 3s - 79ms/step - accuracy: 0.8708 - loss: 0.3752\n",
      "Epoch 22/47\n",
      "40/40 - 3s - 83ms/step - accuracy: 0.8728 - loss: 0.3677\n",
      "Epoch 23/47\n",
      "40/40 - 2s - 55ms/step - accuracy: 0.8745 - loss: 0.3634\n",
      "Epoch 24/47\n",
      "40/40 - 2s - 56ms/step - accuracy: 0.8761 - loss: 0.3535\n",
      "Epoch 25/47\n",
      "40/40 - 3s - 80ms/step - accuracy: 0.8786 - loss: 0.3418\n",
      "Epoch 26/47\n",
      "40/40 - 3s - 75ms/step - accuracy: 0.8802 - loss: 0.3452\n",
      "Epoch 27/47\n",
      "40/40 - 3s - 65ms/step - accuracy: 0.8851 - loss: 0.3306\n",
      "Epoch 28/47\n",
      "40/40 - 2s - 59ms/step - accuracy: 0.8878 - loss: 0.3201\n",
      "Epoch 29/47\n",
      "40/40 - 3s - 73ms/step - accuracy: 0.8887 - loss: 0.3196\n",
      "Epoch 30/47\n",
      "40/40 - 3s - 67ms/step - accuracy: 0.8930 - loss: 0.3087\n",
      "Epoch 31/47\n",
      "40/40 - 3s - 71ms/step - accuracy: 0.8919 - loss: 0.3057\n",
      "Epoch 32/47\n",
      "40/40 - 3s - 75ms/step - accuracy: 0.8985 - loss: 0.2908\n",
      "Epoch 33/47\n",
      "40/40 - 3s - 75ms/step - accuracy: 0.9007 - loss: 0.2879\n",
      "Epoch 34/47\n",
      "40/40 - 3s - 78ms/step - accuracy: 0.9063 - loss: 0.2733\n",
      "Epoch 35/47\n",
      "40/40 - 3s - 81ms/step - accuracy: 0.9029 - loss: 0.2773\n",
      "Epoch 36/47\n",
      "40/40 - 3s - 72ms/step - accuracy: 0.9088 - loss: 0.2702\n",
      "Epoch 37/47\n",
      "40/40 - 2s - 59ms/step - accuracy: 0.9113 - loss: 0.2622\n",
      "Epoch 38/47\n",
      "40/40 - 2s - 57ms/step - accuracy: 0.9110 - loss: 0.2586\n",
      "Epoch 39/47\n",
      "40/40 - 2s - 52ms/step - accuracy: 0.9134 - loss: 0.2551\n",
      "Epoch 40/47\n",
      "40/40 - 4s - 88ms/step - accuracy: 0.9137 - loss: 0.2528\n",
      "Epoch 41/47\n",
      "40/40 - 2s - 58ms/step - accuracy: 0.9136 - loss: 0.2493\n",
      "Epoch 42/47\n",
      "40/40 - 3s - 66ms/step - accuracy: 0.9166 - loss: 0.2457\n",
      "Epoch 43/47\n",
      "40/40 - 3s - 76ms/step - accuracy: 0.9193 - loss: 0.2336\n",
      "Epoch 44/47\n",
      "40/40 - 3s - 69ms/step - accuracy: 0.9194 - loss: 0.2356\n",
      "Epoch 45/47\n",
      "40/40 - 3s - 76ms/step - accuracy: 0.9193 - loss: 0.2334\n",
      "Epoch 46/47\n",
      "40/40 - 3s - 72ms/step - accuracy: 0.9259 - loss: 0.2180\n",
      "Epoch 47/47\n",
      "40/40 - 3s - 63ms/step - accuracy: 0.9223 - loss: 0.2261\n"
     ]
    },
    {
     "data": {
      "text/plain": [
       "<keras.src.callbacks.history.History at 0x2aa5475b010>"
      ]
     },
     "execution_count": 35,
     "metadata": {},
     "output_type": "execute_result"
    }
   ],
   "source": [
    "# Fit the model to the data\n",
    "\n",
    "model.fit(X_train, y_train_one_hot, batch_size=batch_size, epochs=epochs, verbose=2)"
   ]
  },
  {
   "cell_type": "code",
   "execution_count": 36,
   "id": "0260af0d-564e-4466-8567-4cac9c12ad49",
   "metadata": {},
   "outputs": [],
   "source": [
    "# Define list of stations names\n",
    "\n",
    "stations = {\n",
    "0: 'BASEL',\n",
    "1: 'BELGRADE',\n",
    "2: 'BUDAPEST',\n",
    "3: 'DEBILT',\n",
    "4: 'DUSSELDORF',\n",
    "5: 'HEATHROW',\n",
    "6: 'KASSEL',\n",
    "7: 'LJUBLJANA',\n",
    "8: 'MAASTRICHT',\n",
    "9: 'MADRID',\n",
    "10: 'MUNCHENB',\n",
    "11: 'OSLO',\n",
    "12: 'SONNBLICK',\n",
    "13: 'STOCKHOLM',\n",
    "14: 'VALENTIA'\n",
    "}"
   ]
  },
  {
   "cell_type": "code",
   "execution_count": 37,
   "id": "b4eab0f0-5b14-4800-a261-1e0d9297cd76",
   "metadata": {},
   "outputs": [],
   "source": [
    "def confusion_matrix(y_true, y_pred, stations):\n",
    "    # Check if y_true and y_pred are one-hot encoded or already class indices\n",
    "    if y_true.ndim == 1:\n",
    "        y_true_labels = y_true\n",
    "    else:\n",
    "        y_true_labels = np.argmax(y_true, axis=1)\n",
    "    \n",
    "    if y_pred.ndim == 1:\n",
    "        y_pred_labels = y_pred\n",
    "    else:\n",
    "        y_pred_labels = np.argmax(y_pred, axis=1)\n",
    "        \n",
    "    # Map numeric labels to activity names\n",
    "    y_true_series = pd.Series([stations[y] for y in y_true_labels])\n",
    "    y_pred_series = pd.Series([stations[y] for y in y_pred_labels])\n",
    "    \n",
    "    return pd.crosstab(y_true_series, y_pred_series, rownames=['True'], colnames=['Pred'])"
   ]
  },
  {
   "cell_type": "code",
   "execution_count": 38,
   "id": "9aaaf35e-2a7b-4592-bbbc-c1763bcc0245",
   "metadata": {},
   "outputs": [
    {
     "name": "stdout",
     "output_type": "stream",
     "text": [
      "\u001b[1m144/144\u001b[0m \u001b[32m━━━━━━━━━━━━━━━━━━━━\u001b[0m\u001b[37m\u001b[0m \u001b[1m2s\u001b[0m 13ms/step\n"
     ]
    }
   ],
   "source": [
    "y_pred = model.predict(X_test)"
   ]
  },
  {
   "cell_type": "code",
   "execution_count": 39,
   "id": "68f91d57-6fbe-429d-80ee-4fd82e908160",
   "metadata": {},
   "outputs": [
    {
     "name": "stdout",
     "output_type": "stream",
     "text": [
      "\u001b[1m144/144\u001b[0m \u001b[32m━━━━━━━━━━━━━━━━━━━━\u001b[0m\u001b[37m\u001b[0m \u001b[1m1s\u001b[0m 8ms/step\n",
      "              precision    recall  f1-score   support\n",
      "\n",
      "           0       0.93      0.96      0.95      2955\n",
      "           1       0.87      0.87      0.87       879\n",
      "           2       0.71      0.66      0.68       162\n",
      "           3       0.75      0.47      0.58        64\n",
      "           4       0.21      0.16      0.18        25\n",
      "           5       0.59      0.72      0.65        67\n",
      "           6       0.67      0.22      0.33         9\n",
      "           7       0.70      0.50      0.58        46\n",
      "           8       0.00      0.00      0.00         7\n",
      "           9       0.86      0.76      0.81       360\n",
      "          10       1.00      0.12      0.22         8\n",
      "          11       0.67      0.50      0.57         4\n",
      "          13       1.00      0.33      0.50         3\n",
      "          14       0.00      0.00      0.00         1\n",
      "\n",
      "    accuracy                           0.89      4590\n",
      "   macro avg       0.64      0.45      0.49      4590\n",
      "weighted avg       0.89      0.89      0.89      4590\n",
      "\n"
     ]
    },
    {
     "name": "stderr",
     "output_type": "stream",
     "text": [
      "C:\\Users\\harkn\\anaconda3\\Lib\\site-packages\\sklearn\\metrics\\_classification.py:1344: UndefinedMetricWarning: Precision and F-score are ill-defined and being set to 0.0 in labels with no predicted samples. Use `zero_division` parameter to control this behavior.\n",
      "  _warn_prf(average, modifier, msg_start, len(result))\n",
      "C:\\Users\\harkn\\anaconda3\\Lib\\site-packages\\sklearn\\metrics\\_classification.py:1344: UndefinedMetricWarning: Precision and F-score are ill-defined and being set to 0.0 in labels with no predicted samples. Use `zero_division` parameter to control this behavior.\n",
      "  _warn_prf(average, modifier, msg_start, len(result))\n",
      "C:\\Users\\harkn\\anaconda3\\Lib\\site-packages\\sklearn\\metrics\\_classification.py:1344: UndefinedMetricWarning: Precision and F-score are ill-defined and being set to 0.0 in labels with no predicted samples. Use `zero_division` parameter to control this behavior.\n",
      "  _warn_prf(average, modifier, msg_start, len(result))\n"
     ]
    }
   ],
   "source": [
    "y_pred = model.predict(X_test)\n",
    "y_pred_classes = np.argmax(y_pred, axis=1)\n",
    "\n",
    "from sklearn.metrics import classification_report\n",
    "print(classification_report(y_test, y_pred_classes))"
   ]
  },
  {
   "cell_type": "code",
   "execution_count": 40,
   "id": "341bb98b-7093-480c-b65d-a81e92808060",
   "metadata": {},
   "outputs": [
    {
     "name": "stdout",
     "output_type": "stream",
     "text": [
      "Pred        BASEL  BELGRADE  BUDAPEST  DEBILT  DUSSELDORF  HEATHROW  KASSEL  \\\n",
      "True                                                                          \n",
      "BASEL        2846        49         5       1           5         4       0   \n",
      "BELGRADE      112       766         0       0           0         0       0   \n",
      "BUDAPEST       23        32       107       0           0         0       0   \n",
      "DEBILT         17         5        12      30           0         0       0   \n",
      "DUSSELDORF      6         3         3       4           4         5       0   \n",
      "HEATHROW        8         2         2       3           3        48       0   \n",
      "KASSEL          1         2         1       0           2         1       2   \n",
      "LJUBLJANA       9         2         8       0           0         3       1   \n",
      "MAASTRICHT      5         0         0       0           0         1       0   \n",
      "MADRID         21        22        12       2           4        19       0   \n",
      "MUNCHENB        6         0         0       0           0         0       0   \n",
      "OSLO            1         0         0       0           1         0       0   \n",
      "STOCKHOLM       0         0         1       0           0         0       0   \n",
      "VALENTIA        1         0         0       0           0         0       0   \n",
      "\n",
      "Pred        LJUBLJANA  MAASTRICHT  MADRID  MUNCHENB  OSLO  STOCKHOLM  \n",
      "True                                                                  \n",
      "BASEL               4           0      41         0     0          0  \n",
      "BELGRADE            0           0       1         0     0          0  \n",
      "BUDAPEST            0           0       0         0     0          0  \n",
      "DEBILT              0           0       0         0     0          0  \n",
      "DUSSELDORF          0           0       0         0     0          0  \n",
      "HEATHROW            0           0       1         0     0          0  \n",
      "KASSEL              0           0       0         0     0          0  \n",
      "LJUBLJANA          23           0       0         0     0          0  \n",
      "MAASTRICHT          0           0       1         0     0          0  \n",
      "MADRID              5           1     274         0     0          0  \n",
      "MUNCHENB            1           0       0         1     0          0  \n",
      "OSLO                0           0       0         0     2          0  \n",
      "STOCKHOLM           0           0       0         0     1          1  \n",
      "VALENTIA            0           0       0         0     0          0  \n"
     ]
    }
   ],
   "source": [
    "# Evaluate\n",
    "\n",
    "print(confusion_matrix(y_test, y_pred, stations))"
   ]
  },
  {
   "cell_type": "code",
   "execution_count": 58,
   "id": "cc3a0e6b-cf6d-4a93-8582-d464d412a88e",
   "metadata": {},
   "outputs": [],
   "source": [
    "# creating a RF classifier\n",
    "clf = RandomForestClassifier()"
   ]
  },
  {
   "cell_type": "code",
   "execution_count": 60,
   "id": "ecaa1ce0-7b85-4295-be4a-06ac5cab4684",
   "metadata": {},
   "outputs": [],
   "source": [
    "grid_space={'max_depth':[3,5,10,None],\n",
    "              'n_estimators':[10,100,200],\n",
    "              'max_features':[1,3,5,7],\n",
    "              'min_samples_leaf':[1,2,3],\n",
    "              'min_samples_split':[1,2,3]\n",
    "           }"
   ]
  },
  {
   "cell_type": "code",
   "execution_count": 66,
   "id": "4d139c55-ede4-4b31-bfc8-7b7c49f60df5",
   "metadata": {},
   "outputs": [
    {
     "name": "stdout",
     "output_type": "stream",
     "text": [
      "Fitting 3 folds for each of 432 candidates, totalling 1296 fits\n"
     ]
    },
    {
     "ename": "ValueError",
     "evalue": "\nAll the 1296 fits failed.\nIt is very likely that your model is misconfigured.\nYou can try to debug the error by setting error_score='raise'.\n\nBelow are more details about the failures:\n--------------------------------------------------------------------------------\n432 fits failed with the following error:\nTraceback (most recent call last):\n  File \"C:\\Users\\harkn\\anaconda3\\Lib\\site-packages\\sklearn\\model_selection\\_validation.py\", line 686, in _fit_and_score\n    estimator.fit(X_train, y_train, **fit_params)\n  File \"C:\\Users\\harkn\\anaconda3\\Lib\\site-packages\\sklearn\\ensemble\\_forest.py\", line 340, in fit\n    self._validate_params()\n  File \"C:\\Users\\harkn\\anaconda3\\Lib\\site-packages\\sklearn\\base.py\", line 600, in _validate_params\n    validate_parameter_constraints(\n  File \"C:\\Users\\harkn\\anaconda3\\Lib\\site-packages\\sklearn\\utils\\_param_validation.py\", line 97, in validate_parameter_constraints\n    raise InvalidParameterError(\nsklearn.utils._param_validation.InvalidParameterError: The 'min_samples_split' parameter of RandomForestClassifier must be an int in the range [2, inf) or a float in the range (0.0, 1.0]. Got 1 instead.\n\n--------------------------------------------------------------------------------\n864 fits failed with the following error:\nTraceback (most recent call last):\n  File \"C:\\Users\\harkn\\anaconda3\\Lib\\site-packages\\sklearn\\model_selection\\_validation.py\", line 686, in _fit_and_score\n    estimator.fit(X_train, y_train, **fit_params)\n  File \"C:\\Users\\harkn\\anaconda3\\Lib\\site-packages\\sklearn\\ensemble\\_forest.py\", line 345, in fit\n    X, y = self._validate_data(\n           ^^^^^^^^^^^^^^^^^^^^\n  File \"C:\\Users\\harkn\\anaconda3\\Lib\\site-packages\\sklearn\\base.py\", line 584, in _validate_data\n    X, y = check_X_y(X, y, **check_params)\n           ^^^^^^^^^^^^^^^^^^^^^^^^^^^^^^^\n  File \"C:\\Users\\harkn\\anaconda3\\Lib\\site-packages\\sklearn\\utils\\validation.py\", line 1106, in check_X_y\n    X = check_array(\n        ^^^^^^^^^^^^\n  File \"C:\\Users\\harkn\\anaconda3\\Lib\\site-packages\\sklearn\\utils\\validation.py\", line 915, in check_array\n    raise ValueError(\nValueError: Found array with dim 3. RandomForestClassifier expected <= 2.\n",
     "output_type": "error",
     "traceback": [
      "\u001b[1;31m---------------------------------------------------------------------------\u001b[0m",
      "\u001b[1;31mValueError\u001b[0m                                Traceback (most recent call last)",
      "Cell \u001b[1;32mIn[66], line 3\u001b[0m\n\u001b[0;32m      1\u001b[0m start \u001b[38;5;241m=\u001b[39m time\u001b[38;5;241m.\u001b[39mtime()\n\u001b[0;32m      2\u001b[0m grid \u001b[38;5;241m=\u001b[39m GridSearchCV(clf,param_grid\u001b[38;5;241m=\u001b[39mgrid_space,cv\u001b[38;5;241m=\u001b[39m\u001b[38;5;241m3\u001b[39m,scoring\u001b[38;5;241m=\u001b[39m\u001b[38;5;124m'\u001b[39m\u001b[38;5;124maccuracy\u001b[39m\u001b[38;5;124m'\u001b[39m, verbose\u001b[38;5;241m=\u001b[39m\u001b[38;5;241m3\u001b[39m, n_jobs\u001b[38;5;241m=\u001b[39m\u001b[38;5;241m-\u001b[39m\u001b[38;5;241m1\u001b[39m)\n\u001b[1;32m----> 3\u001b[0m model_grid \u001b[38;5;241m=\u001b[39m grid\u001b[38;5;241m.\u001b[39mfit(X_train, y_train)\n\u001b[0;32m      4\u001b[0m \u001b[38;5;28mprint\u001b[39m(\u001b[38;5;124m'\u001b[39m\u001b[38;5;124mSearch took \u001b[39m\u001b[38;5;132;01m%s\u001b[39;00m\u001b[38;5;124m minutes\u001b[39m\u001b[38;5;124m'\u001b[39m \u001b[38;5;241m%\u001b[39m ((time\u001b[38;5;241m.\u001b[39mtime() \u001b[38;5;241m-\u001b[39m start)\u001b[38;5;241m/\u001b[39m\u001b[38;5;241m60\u001b[39m))\n",
      "File \u001b[1;32m~\\anaconda3\\Lib\\site-packages\\sklearn\\model_selection\\_search.py:874\u001b[0m, in \u001b[0;36mBaseSearchCV.fit\u001b[1;34m(self, X, y, groups, **fit_params)\u001b[0m\n\u001b[0;32m    868\u001b[0m     results \u001b[38;5;241m=\u001b[39m \u001b[38;5;28mself\u001b[39m\u001b[38;5;241m.\u001b[39m_format_results(\n\u001b[0;32m    869\u001b[0m         all_candidate_params, n_splits, all_out, all_more_results\n\u001b[0;32m    870\u001b[0m     )\n\u001b[0;32m    872\u001b[0m     \u001b[38;5;28;01mreturn\u001b[39;00m results\n\u001b[1;32m--> 874\u001b[0m \u001b[38;5;28mself\u001b[39m\u001b[38;5;241m.\u001b[39m_run_search(evaluate_candidates)\n\u001b[0;32m    876\u001b[0m \u001b[38;5;66;03m# multimetric is determined here because in the case of a callable\u001b[39;00m\n\u001b[0;32m    877\u001b[0m \u001b[38;5;66;03m# self.scoring the return type is only known after calling\u001b[39;00m\n\u001b[0;32m    878\u001b[0m first_test_score \u001b[38;5;241m=\u001b[39m all_out[\u001b[38;5;241m0\u001b[39m][\u001b[38;5;124m\"\u001b[39m\u001b[38;5;124mtest_scores\u001b[39m\u001b[38;5;124m\"\u001b[39m]\n",
      "File \u001b[1;32m~\\anaconda3\\Lib\\site-packages\\sklearn\\model_selection\\_search.py:1388\u001b[0m, in \u001b[0;36mGridSearchCV._run_search\u001b[1;34m(self, evaluate_candidates)\u001b[0m\n\u001b[0;32m   1386\u001b[0m \u001b[38;5;28;01mdef\u001b[39;00m \u001b[38;5;21m_run_search\u001b[39m(\u001b[38;5;28mself\u001b[39m, evaluate_candidates):\n\u001b[0;32m   1387\u001b[0m \u001b[38;5;250m    \u001b[39m\u001b[38;5;124;03m\"\"\"Search all candidates in param_grid\"\"\"\u001b[39;00m\n\u001b[1;32m-> 1388\u001b[0m     evaluate_candidates(ParameterGrid(\u001b[38;5;28mself\u001b[39m\u001b[38;5;241m.\u001b[39mparam_grid))\n",
      "File \u001b[1;32m~\\anaconda3\\Lib\\site-packages\\sklearn\\model_selection\\_search.py:851\u001b[0m, in \u001b[0;36mBaseSearchCV.fit.<locals>.evaluate_candidates\u001b[1;34m(candidate_params, cv, more_results)\u001b[0m\n\u001b[0;32m    844\u001b[0m \u001b[38;5;28;01melif\u001b[39;00m \u001b[38;5;28mlen\u001b[39m(out) \u001b[38;5;241m!=\u001b[39m n_candidates \u001b[38;5;241m*\u001b[39m n_splits:\n\u001b[0;32m    845\u001b[0m     \u001b[38;5;28;01mraise\u001b[39;00m \u001b[38;5;167;01mValueError\u001b[39;00m(\n\u001b[0;32m    846\u001b[0m         \u001b[38;5;124m\"\u001b[39m\u001b[38;5;124mcv.split and cv.get_n_splits returned \u001b[39m\u001b[38;5;124m\"\u001b[39m\n\u001b[0;32m    847\u001b[0m         \u001b[38;5;124m\"\u001b[39m\u001b[38;5;124minconsistent results. Expected \u001b[39m\u001b[38;5;132;01m{}\u001b[39;00m\u001b[38;5;124m \u001b[39m\u001b[38;5;124m\"\u001b[39m\n\u001b[0;32m    848\u001b[0m         \u001b[38;5;124m\"\u001b[39m\u001b[38;5;124msplits, got \u001b[39m\u001b[38;5;132;01m{}\u001b[39;00m\u001b[38;5;124m\"\u001b[39m\u001b[38;5;241m.\u001b[39mformat(n_splits, \u001b[38;5;28mlen\u001b[39m(out) \u001b[38;5;241m/\u001b[39m\u001b[38;5;241m/\u001b[39m n_candidates)\n\u001b[0;32m    849\u001b[0m     )\n\u001b[1;32m--> 851\u001b[0m _warn_or_raise_about_fit_failures(out, \u001b[38;5;28mself\u001b[39m\u001b[38;5;241m.\u001b[39merror_score)\n\u001b[0;32m    853\u001b[0m \u001b[38;5;66;03m# For callable self.scoring, the return type is only know after\u001b[39;00m\n\u001b[0;32m    854\u001b[0m \u001b[38;5;66;03m# calling. If the return type is a dictionary, the error scores\u001b[39;00m\n\u001b[0;32m    855\u001b[0m \u001b[38;5;66;03m# can now be inserted with the correct key. The type checking\u001b[39;00m\n\u001b[0;32m    856\u001b[0m \u001b[38;5;66;03m# of out will be done in `_insert_error_scores`.\u001b[39;00m\n\u001b[0;32m    857\u001b[0m \u001b[38;5;28;01mif\u001b[39;00m \u001b[38;5;28mcallable\u001b[39m(\u001b[38;5;28mself\u001b[39m\u001b[38;5;241m.\u001b[39mscoring):\n",
      "File \u001b[1;32m~\\anaconda3\\Lib\\site-packages\\sklearn\\model_selection\\_validation.py:367\u001b[0m, in \u001b[0;36m_warn_or_raise_about_fit_failures\u001b[1;34m(results, error_score)\u001b[0m\n\u001b[0;32m    360\u001b[0m \u001b[38;5;28;01mif\u001b[39;00m num_failed_fits \u001b[38;5;241m==\u001b[39m num_fits:\n\u001b[0;32m    361\u001b[0m     all_fits_failed_message \u001b[38;5;241m=\u001b[39m (\n\u001b[0;32m    362\u001b[0m         \u001b[38;5;124mf\u001b[39m\u001b[38;5;124m\"\u001b[39m\u001b[38;5;130;01m\\n\u001b[39;00m\u001b[38;5;124mAll the \u001b[39m\u001b[38;5;132;01m{\u001b[39;00mnum_fits\u001b[38;5;132;01m}\u001b[39;00m\u001b[38;5;124m fits failed.\u001b[39m\u001b[38;5;130;01m\\n\u001b[39;00m\u001b[38;5;124m\"\u001b[39m\n\u001b[0;32m    363\u001b[0m         \u001b[38;5;124m\"\u001b[39m\u001b[38;5;124mIt is very likely that your model is misconfigured.\u001b[39m\u001b[38;5;130;01m\\n\u001b[39;00m\u001b[38;5;124m\"\u001b[39m\n\u001b[0;32m    364\u001b[0m         \u001b[38;5;124m\"\u001b[39m\u001b[38;5;124mYou can try to debug the error by setting error_score=\u001b[39m\u001b[38;5;124m'\u001b[39m\u001b[38;5;124mraise\u001b[39m\u001b[38;5;124m'\u001b[39m\u001b[38;5;124m.\u001b[39m\u001b[38;5;130;01m\\n\u001b[39;00m\u001b[38;5;130;01m\\n\u001b[39;00m\u001b[38;5;124m\"\u001b[39m\n\u001b[0;32m    365\u001b[0m         \u001b[38;5;124mf\u001b[39m\u001b[38;5;124m\"\u001b[39m\u001b[38;5;124mBelow are more details about the failures:\u001b[39m\u001b[38;5;130;01m\\n\u001b[39;00m\u001b[38;5;132;01m{\u001b[39;00mfit_errors_summary\u001b[38;5;132;01m}\u001b[39;00m\u001b[38;5;124m\"\u001b[39m\n\u001b[0;32m    366\u001b[0m     )\n\u001b[1;32m--> 367\u001b[0m     \u001b[38;5;28;01mraise\u001b[39;00m \u001b[38;5;167;01mValueError\u001b[39;00m(all_fits_failed_message)\n\u001b[0;32m    369\u001b[0m \u001b[38;5;28;01melse\u001b[39;00m:\n\u001b[0;32m    370\u001b[0m     some_fits_failed_message \u001b[38;5;241m=\u001b[39m (\n\u001b[0;32m    371\u001b[0m         \u001b[38;5;124mf\u001b[39m\u001b[38;5;124m\"\u001b[39m\u001b[38;5;130;01m\\n\u001b[39;00m\u001b[38;5;132;01m{\u001b[39;00mnum_failed_fits\u001b[38;5;132;01m}\u001b[39;00m\u001b[38;5;124m fits failed out of a total of \u001b[39m\u001b[38;5;132;01m{\u001b[39;00mnum_fits\u001b[38;5;132;01m}\u001b[39;00m\u001b[38;5;124m.\u001b[39m\u001b[38;5;130;01m\\n\u001b[39;00m\u001b[38;5;124m\"\u001b[39m\n\u001b[0;32m    372\u001b[0m         \u001b[38;5;124m\"\u001b[39m\u001b[38;5;124mThe score on these train-test partitions for these parameters\u001b[39m\u001b[38;5;124m\"\u001b[39m\n\u001b[1;32m   (...)\u001b[0m\n\u001b[0;32m    376\u001b[0m         \u001b[38;5;124mf\u001b[39m\u001b[38;5;124m\"\u001b[39m\u001b[38;5;124mBelow are more details about the failures:\u001b[39m\u001b[38;5;130;01m\\n\u001b[39;00m\u001b[38;5;132;01m{\u001b[39;00mfit_errors_summary\u001b[38;5;132;01m}\u001b[39;00m\u001b[38;5;124m\"\u001b[39m\n\u001b[0;32m    377\u001b[0m     )\n",
      "\u001b[1;31mValueError\u001b[0m: \nAll the 1296 fits failed.\nIt is very likely that your model is misconfigured.\nYou can try to debug the error by setting error_score='raise'.\n\nBelow are more details about the failures:\n--------------------------------------------------------------------------------\n432 fits failed with the following error:\nTraceback (most recent call last):\n  File \"C:\\Users\\harkn\\anaconda3\\Lib\\site-packages\\sklearn\\model_selection\\_validation.py\", line 686, in _fit_and_score\n    estimator.fit(X_train, y_train, **fit_params)\n  File \"C:\\Users\\harkn\\anaconda3\\Lib\\site-packages\\sklearn\\ensemble\\_forest.py\", line 340, in fit\n    self._validate_params()\n  File \"C:\\Users\\harkn\\anaconda3\\Lib\\site-packages\\sklearn\\base.py\", line 600, in _validate_params\n    validate_parameter_constraints(\n  File \"C:\\Users\\harkn\\anaconda3\\Lib\\site-packages\\sklearn\\utils\\_param_validation.py\", line 97, in validate_parameter_constraints\n    raise InvalidParameterError(\nsklearn.utils._param_validation.InvalidParameterError: The 'min_samples_split' parameter of RandomForestClassifier must be an int in the range [2, inf) or a float in the range (0.0, 1.0]. Got 1 instead.\n\n--------------------------------------------------------------------------------\n864 fits failed with the following error:\nTraceback (most recent call last):\n  File \"C:\\Users\\harkn\\anaconda3\\Lib\\site-packages\\sklearn\\model_selection\\_validation.py\", line 686, in _fit_and_score\n    estimator.fit(X_train, y_train, **fit_params)\n  File \"C:\\Users\\harkn\\anaconda3\\Lib\\site-packages\\sklearn\\ensemble\\_forest.py\", line 345, in fit\n    X, y = self._validate_data(\n           ^^^^^^^^^^^^^^^^^^^^\n  File \"C:\\Users\\harkn\\anaconda3\\Lib\\site-packages\\sklearn\\base.py\", line 584, in _validate_data\n    X, y = check_X_y(X, y, **check_params)\n           ^^^^^^^^^^^^^^^^^^^^^^^^^^^^^^^\n  File \"C:\\Users\\harkn\\anaconda3\\Lib\\site-packages\\sklearn\\utils\\validation.py\", line 1106, in check_X_y\n    X = check_array(\n        ^^^^^^^^^^^^\n  File \"C:\\Users\\harkn\\anaconda3\\Lib\\site-packages\\sklearn\\utils\\validation.py\", line 915, in check_array\n    raise ValueError(\nValueError: Found array with dim 3. RandomForestClassifier expected <= 2.\n"
     ]
    }
   ],
   "source": [
    "start = time.time()\n",
    "grid = GridSearchCV(clf,param_grid=grid_space,cv=3,scoring='accuracy', verbose=3, n_jobs=-1)\n",
    "model_grid = grid.fit(X_train, y_train)\n",
    "print('Search took %s minutes' % ((time.time() - start)/60))"
   ]
  },
  {
   "cell_type": "code",
   "execution_count": 72,
   "id": "fdea79ad-d8e7-4cb0-9926-01048a5ce7df",
   "metadata": {},
   "outputs": [],
   "source": [
    "def create_cnn(input_shape, num_classes):\n",
    "    model = Sequential()\n",
    "    model.add(Conv1D(64, kernel_size=3, activation='relu', input_shape=input_shape))\n",
    "    model.add(MaxPooling1D(pool_size=2))\n",
    "    model.add(BatchNormalization())\n",
    "    model.add(Dropout(0.5))\n",
    "    model.add(Flatten())\n",
    "    model.add(Dense(128, activation='relu'))\n",
    "    model.add(Dense(num_classes, activation='softmax'))  # Adjust activation based on your problem (e.g., softmax for multiclass)\n",
    "    model.compile(optimizer=Adam(), loss='categorical_crossentropy', metrics=['accuracy'])\n",
    "    return model"
   ]
  },
  {
   "cell_type": "code",
   "execution_count": 74,
   "id": "4f2d9e7c-68b7-4701-bac1-d62482e0bc0b",
   "metadata": {},
   "outputs": [],
   "source": [
    "rs_space={'max_depth':list(np.arange(10, 100, step=10)) + [None],\n",
    "              'n_estimators':np.arange(10, 500, step=50),\n",
    "              'max_features':randint(1,7),\n",
    "              'criterion':['gini','entropy'],\n",
    "              'min_samples_leaf':randint(1,4),\n",
    "              'min_samples_split':np.arange(2, 10, step=2)\n",
    "         }"
   ]
  },
  {
   "cell_type": "code",
   "execution_count": 76,
   "id": "26293f9e-e8ec-4fa6-ac82-9231268586a0",
   "metadata": {},
   "outputs": [
    {
     "ename": "NameError",
     "evalue": "name 'clf2' is not defined",
     "output_type": "error",
     "traceback": [
      "\u001b[1;31m---------------------------------------------------------------------------\u001b[0m",
      "\u001b[1;31mNameError\u001b[0m                                 Traceback (most recent call last)",
      "Cell \u001b[1;32mIn[76], line 2\u001b[0m\n\u001b[0;32m      1\u001b[0m start \u001b[38;5;241m=\u001b[39m time\u001b[38;5;241m.\u001b[39mtime()\n\u001b[1;32m----> 2\u001b[0m rf_random \u001b[38;5;241m=\u001b[39m RandomizedSearchCV(clf2, rs_space, n_iter\u001b[38;5;241m=\u001b[39m\u001b[38;5;241m200\u001b[39m, scoring\u001b[38;5;241m=\u001b[39m\u001b[38;5;124m'\u001b[39m\u001b[38;5;124maccuracy\u001b[39m\u001b[38;5;124m'\u001b[39m, verbose\u001b[38;5;241m=\u001b[39m\u001b[38;5;241m3\u001b[39m, n_jobs\u001b[38;5;241m=\u001b[39m\u001b[38;5;241m-\u001b[39m\u001b[38;5;241m1\u001b[39m, cv\u001b[38;5;241m=\u001b[39m\u001b[38;5;241m3\u001b[39m) \u001b[38;5;66;03m#500\u001b[39;00m\n\u001b[0;32m      3\u001b[0m model_random \u001b[38;5;241m=\u001b[39m rf_random\u001b[38;5;241m.\u001b[39mfit(X_train, y_train)\n\u001b[0;32m      4\u001b[0m \u001b[38;5;28mprint\u001b[39m(\u001b[38;5;124m'\u001b[39m\u001b[38;5;124mSearch took \u001b[39m\u001b[38;5;132;01m%s\u001b[39;00m\u001b[38;5;124m minutes\u001b[39m\u001b[38;5;124m'\u001b[39m \u001b[38;5;241m%\u001b[39m ((time\u001b[38;5;241m.\u001b[39mtime() \u001b[38;5;241m-\u001b[39m start)\u001b[38;5;241m/\u001b[39m\u001b[38;5;241m60\u001b[39m))\n",
      "\u001b[1;31mNameError\u001b[0m: name 'clf2' is not defined"
     ]
    }
   ],
   "source": [
    "start = time.time()\n",
    "rf_random = RandomizedSearchCV(clf2, rs_space, n_iter=200, scoring='accuracy', verbose=3, n_jobs=-1, cv=3) #500\n",
    "model_random = rf_random.fit(X_train, y_train)\n",
    "print('Search took %s minutes' % ((time.time() - start)/60))"
   ]
  },
  {
   "cell_type": "code",
   "execution_count": null,
   "id": "e25279bb-f839-4f7a-a793-1e11164ec5c5",
   "metadata": {},
   "outputs": [],
   "source": []
  }
 ],
 "metadata": {
  "kernelspec": {
   "display_name": "Python 3 (ipykernel)",
   "language": "python",
   "name": "python3"
  },
  "language_info": {
   "codemirror_mode": {
    "name": "ipython",
    "version": 3
   },
   "file_extension": ".py",
   "mimetype": "text/x-python",
   "name": "python",
   "nbconvert_exporter": "python",
   "pygments_lexer": "ipython3",
   "version": "3.11.7"
  }
 },
 "nbformat": 4,
 "nbformat_minor": 5
}
